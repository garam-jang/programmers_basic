{
 "cells": [
  {
   "cell_type": "markdown",
   "id": "d7139a69-d9cb-4e18-9474-f1ba72dd75f2",
   "metadata": {},
   "source": [
    "## DAY 8"
   ]
  },
  {
   "cell_type": "markdown",
   "id": "d8120de9-e2bd-4787-ab83-df665ea28e18",
   "metadata": {},
   "source": [
    "#### 1. 간단한 논리 연산"
   ]
  },
  {
   "cell_type": "raw",
   "id": "4e2f7760-d334-4bd3-85c0-3a53836e5ad6",
   "metadata": {},
   "source": [
    "- 문제 설명: boolean 변수 x1, x2, x3, x4가 매개변수로 주어질 때, 다음의 식의 true/false를 return 하는 solution 함수를 작성해 주세요."
   ]
  },
  {
   "cell_type": "code",
   "execution_count": 9,
   "id": "c56a4366-6dff-48a9-b1cd-a7a64812caa5",
   "metadata": {},
   "outputs": [],
   "source": [
    "def solution(x1, x2, x3, x4):\n",
    "    return (x1 or x2) and (x3 or x4)\n",
    "    # return (x1 | x2) & (x3| x4)"
   ]
  },
  {
   "cell_type": "code",
   "execution_count": 5,
   "id": "950d67cf-e3a9-4de8-84f2-5baffbc3cb1f",
   "metadata": {
    "scrolled": true
   },
   "outputs": [
    {
     "data": {
      "text/plain": [
       "True"
      ]
     },
     "execution_count": 5,
     "metadata": {},
     "output_type": "execute_result"
    }
   ],
   "source": [
    "solution(False, True, True, True)"
   ]
  },
  {
   "cell_type": "code",
   "execution_count": 7,
   "id": "57c3183d-2acf-4fbe-aaa1-91b0ff2ba207",
   "metadata": {},
   "outputs": [
    {
     "data": {
      "text/plain": [
       "False"
      ]
     },
     "execution_count": 7,
     "metadata": {},
     "output_type": "execute_result"
    }
   ],
   "source": [
    "solution(True, False, False, False)"
   ]
  },
  {
   "cell_type": "markdown",
   "id": "2ee5fed6-12a0-4b78-8844-c40faeaf72b1",
   "metadata": {},
   "source": [
    "#### 2. 주사위 게임 3"
   ]
  },
  {
   "cell_type": "raw",
   "id": "e5a5deed-6109-4f81-9dd1-94fb1a17a41f",
   "metadata": {},
   "source": [
    "- 문제 설명: 1부터 6까지 숫자가 적힌 주사위가 네 개 있습니다. 네 주사위를 굴렸을 때 나온 숫자에 따라 다음과 같은 점수를 얻습니다.\n",
    "\n",
    "네 주사위에서 나온 숫자가 모두 p로 같다면 1111 × p점을 얻습니다.\n",
    "세 주사위에서 나온 숫자가 p로 같고 나머지 다른 주사위에서 나온 숫자가 q(p ≠ q)라면 (10 × p + q)2 점을 얻습니다.\n",
    "주사위가 두 개씩 같은 값이 나오고, 나온 숫자를 각각 p, q(p ≠ q)라고 한다면 (p + q) × |p - q|점을 얻습니다.\n",
    "어느 두 주사위에서 나온 숫자가 p로 같고 나머지 두 주사위에서 나온 숫자가 각각 p와 다른 q, r(q ≠ r)이라면 q × r점을 얻습니다.\n",
    "네 주사위에 적힌 숫자가 모두 다르다면 나온 숫자 중 가장 작은 숫자 만큼의 점수를 얻습니다.\n",
    "네 주사위를 굴렸을 때 나온 숫자가 정수 매개변수 a, b, c, d로 주어질 때, 얻는 점수를 return 하는 solution 함수를 작성해 주세요."
   ]
  },
  {
   "cell_type": "code",
   "execution_count": 78,
   "id": "075ccdd8-29e0-4dda-8002-af1b9feeccf1",
   "metadata": {
    "scrolled": true
   },
   "outputs": [],
   "source": [
    "def solution(a,b,c,d):\n",
    "    dice = sorted([a,b,c,d]) # 주사위 숫자를 리스트로 정렬\n",
    "    score = 0\n",
    "    # 네 숫자가 모두 같은 경우\n",
    "    if dice[0] == dice[3]:\n",
    "        score = 1111 * dice[0]\n",
    "    # 세 숫자만 같을 경우\n",
    "    elif dice[0] == dice[2] or dice[1] == dice[3]:\n",
    "        p = dice[1]\n",
    "        q = dice[0] if dice[0] != p else dice[3]\n",
    "        score = (10 * p + q)**2\n",
    "    # 두개씩 같을 경우\n",
    "    elif dice[0] == dice[1] and dice[2] == dice[3]:\n",
    "        p = dice[0]\n",
    "        q = dice[2]\n",
    "        score = (p+q) * abs(p-q)\n",
    "    # 두개만 같을 경우\n",
    "    elif dice[0] == dice[1]:\n",
    "        score = dice[2] * dice[3]\n",
    "    elif dice[1] == dice[2]:\n",
    "        score = dice[0] * dice[3]\n",
    "    elif dice[2] == dice[3]:\n",
    "        score = dice[0] * dice[1]\n",
    "\n",
    "    # 다 다를 경우\n",
    "    else:\n",
    "        score = dice[0]\n",
    "\n",
    "    return score"
   ]
  },
  {
   "cell_type": "code",
   "execution_count": 80,
   "id": "a569b55c-63df-4d70-8d62-a4066bfe321a",
   "metadata": {},
   "outputs": [
    {
     "data": {
      "text/plain": [
       "2222"
      ]
     },
     "execution_count": 80,
     "metadata": {},
     "output_type": "execute_result"
    }
   ],
   "source": [
    "solution(2,2,2,2)"
   ]
  },
  {
   "cell_type": "code",
   "execution_count": 82,
   "id": "18b56679-74da-49bc-8ca4-aae7173dff72",
   "metadata": {},
   "outputs": [
    {
     "data": {
      "text/plain": [
       "1681"
      ]
     },
     "execution_count": 82,
     "metadata": {},
     "output_type": "execute_result"
    }
   ],
   "source": [
    "solution(4,1,4,4)"
   ]
  },
  {
   "cell_type": "code",
   "execution_count": 88,
   "id": "c3c7d7d6-b213-4162-b659-cfbf6b904e45",
   "metadata": {},
   "outputs": [],
   "source": [
    "# 다른 사람의 풀이\n",
    "def solution(a, b, c, d):\n",
    "    l = [a,b,c,d]\n",
    "    c = [l.count(x) for x in l] # 각 숫자들의 중복개수 계산 만약 2,2,2,2 라면 -> [4,4,4,4] 출력, 4,1,4,4 라면 -> [3,1,3,3] 충엳\n",
    "\n",
    "    if max(c) == 4: # 네 숫자가 다 같을 경우\n",
    "        return 1111 * a\n",
    "    elif max(c) == 3: # 세 숫자만 같을 경우\n",
    "        return (10 * l[c.index(3)] + l[c.index(1)])**2\n",
    "    elif max(c) == 2: # 두 숫자가 같을 경우\n",
    "        if min(c) == 1: # 나머지 두 숫자는 다를 경우\n",
    "            return eval('*'.join([str(l[i]) for i, x in enumerate(c) if x == 1]))\n",
    "        else: # 나머지 두 숫자도 같을 경우\n",
    "            return (max(l) + min(l)) * abs(max(l) - min(l))\n",
    "    else: # 네 숫자가 다 다를 경우\n",
    "        return min(l)"
   ]
  },
  {
   "cell_type": "code",
   "execution_count": 90,
   "id": "d1af8200-5388-47ba-8429-0cfe7567d681",
   "metadata": {},
   "outputs": [
    {
     "data": {
      "text/plain": [
       "2222"
      ]
     },
     "execution_count": 90,
     "metadata": {},
     "output_type": "execute_result"
    }
   ],
   "source": [
    "solution(2,2,2,2)"
   ]
  },
  {
   "cell_type": "code",
   "execution_count": 92,
   "id": "b51ab243-a63a-42d0-bb95-c5a1992ae9d1",
   "metadata": {},
   "outputs": [
    {
     "data": {
      "text/plain": [
       "1681"
      ]
     },
     "execution_count": 92,
     "metadata": {},
     "output_type": "execute_result"
    }
   ],
   "source": [
    "solution(4,1,4,4)"
   ]
  },
  {
   "cell_type": "markdown",
   "id": "b893c442-005e-47e5-a3f9-5acff99c2922",
   "metadata": {},
   "source": [
    "#### 3. 글자 이어 붙여 문자열 만들기"
   ]
  },
  {
   "cell_type": "raw",
   "id": "d817289c-5650-4628-885f-de9d1473df88",
   "metadata": {},
   "source": [
    "- 문제 설명: 문자열 my_string과 정수 배열 index_list가 매개변수로 주어집니다. \n",
    "my_string의 index_list의 원소들에 해당하는 인덱스의 글자들을 순서대로 이어 붙인 문자열을 return 하는 solution 함수를 작성해 주세요."
   ]
  },
  {
   "cell_type": "code",
   "execution_count": 2,
   "id": "1dac35c5-6f45-4df9-a387-fe77a13474d5",
   "metadata": {},
   "outputs": [],
   "source": [
    "def solution(my_string, index_list):\n",
    "    answer = ''\n",
    "    for i in index_list:\n",
    "        answer += my_string[i]\n",
    "    return answer"
   ]
  },
  {
   "cell_type": "code",
   "execution_count": 4,
   "id": "cb2e8f3f-4c9f-4de9-9e43-c51745274177",
   "metadata": {},
   "outputs": [
    {
     "data": {
      "text/plain": [
       "'programmers'"
      ]
     },
     "execution_count": 4,
     "metadata": {},
     "output_type": "execute_result"
    }
   ],
   "source": [
    "solution(\"cvsgiorszzzmrpaqpe\", [16, 6, 5, 3, 12, 14, 11, 11, 17, 12, 7])"
   ]
  },
  {
   "cell_type": "code",
   "execution_count": 6,
   "id": "3150c726-21b5-4e5a-aa68-16707717ca33",
   "metadata": {},
   "outputs": [
    {
     "data": {
      "text/plain": [
       "'pizza'"
      ]
     },
     "execution_count": 6,
     "metadata": {},
     "output_type": "execute_result"
    }
   ],
   "source": [
    "solution(\"zpiaz\", \t[1, 2, 0, 0, 3])"
   ]
  },
  {
   "cell_type": "code",
   "execution_count": 10,
   "id": "26a7f705-e8e8-4d5b-b1b1-8d5dc6fcb639",
   "metadata": {},
   "outputs": [],
   "source": [
    "def solution(my_string, index_list):\n",
    "    return ''.join([my_string[idx] for idx in index_list]) \n",
    "# index_list의 숫자를 idx에 할당 -> 각 인덱스의 글자를 리스트로 정렬 -> join을 사용하여 결합"
   ]
  },
  {
   "cell_type": "code",
   "execution_count": 12,
   "id": "ccfa1a8d-848f-4a32-b7b3-bdda03eb51d4",
   "metadata": {},
   "outputs": [
    {
     "data": {
      "text/plain": [
       "'programmers'"
      ]
     },
     "execution_count": 12,
     "metadata": {},
     "output_type": "execute_result"
    }
   ],
   "source": [
    "solution(\"cvsgiorszzzmrpaqpe\", [16, 6, 5, 3, 12, 14, 11, 11, 17, 12, 7])"
   ]
  },
  {
   "cell_type": "code",
   "execution_count": 14,
   "id": "1034e1b6-ac02-4d83-855a-ce592bb8e549",
   "metadata": {},
   "outputs": [
    {
     "data": {
      "text/plain": [
       "'pizza'"
      ]
     },
     "execution_count": 14,
     "metadata": {},
     "output_type": "execute_result"
    }
   ],
   "source": [
    "solution(\"zpiaz\", \t[1, 2, 0, 0, 3])"
   ]
  },
  {
   "cell_type": "markdown",
   "id": "af3e3344-4c44-489e-a0a9-e6b55c9e1e02",
   "metadata": {},
   "source": [
    "#### 4. 9로 나눈 나머지"
   ]
  },
  {
   "cell_type": "raw",
   "id": "6d9bf96c-55da-4cf1-a5b8-bd3118bf3be3",
   "metadata": {},
   "source": [
    "- 문제 설명: 음이 아닌 정수를 9로 나눈 나머지는 그 정수의 각 자리 숫자의 합을 9로 나눈 나머지와 같은 것이 알려져 있습니다.\n",
    "이 사실을 이용하여 음이 아닌 정수가 문자열 number로 주어질 때, 이 정수를 9로 나눈 나머지를 return 하는 solution 함수를 작성해주세요."
   ]
  },
  {
   "cell_type": "code",
   "execution_count": 27,
   "id": "0a578e73-075e-46a1-989a-23f4efb7e238",
   "metadata": {},
   "outputs": [],
   "source": [
    "def solution(number):\n",
    "    num_sum = 0\n",
    "    for i in number:\n",
    "        num_sum += int(i)\n",
    "\n",
    "    return num_sum % 9"
   ]
  },
  {
   "cell_type": "code",
   "execution_count": 29,
   "id": "ee892357-a366-4a35-b836-99e80495bfb7",
   "metadata": {},
   "outputs": [
    {
     "data": {
      "text/plain": [
       "6"
      ]
     },
     "execution_count": 29,
     "metadata": {},
     "output_type": "execute_result"
    }
   ],
   "source": [
    "solution(\"123\")"
   ]
  },
  {
   "cell_type": "code",
   "execution_count": 31,
   "id": "009c4dc3-7845-4326-8daf-4de04de0d5a0",
   "metadata": {},
   "outputs": [
    {
     "data": {
      "text/plain": [
       "2"
      ]
     },
     "execution_count": 31,
     "metadata": {},
     "output_type": "execute_result"
    }
   ],
   "source": [
    "solution(\"78720646226947352489\")"
   ]
  },
  {
   "cell_type": "markdown",
   "id": "54f0ab51-6d05-4c78-a974-6d1399c698e4",
   "metadata": {},
   "source": [
    "#### 5. 문자열 여러 번 뒤집기"
   ]
  },
  {
   "cell_type": "raw",
   "id": "6e5e8d32-e6ea-4cac-8ce5-a7bed0eddcaa",
   "metadata": {},
   "source": [
    "- 문제 설명: 문자열 my_string과 이차원 정수 배열 queries가 매개변수로 주어집니다. \n",
    "queries의 원소는 [s, e] 형태로, my_string의 인덱스 s부터 인덱스 e까지를 뒤집으라는 의미입니다. \n",
    "my_string에 queries의 명령을 순서대로 처리한 후의 문자열을 return 하는 solution 함수를 작성해 주세요."
   ]
  },
  {
   "cell_type": "code",
   "execution_count": 74,
   "id": "aa38883a-49a8-4bbb-8e2e-29916d924893",
   "metadata": {},
   "outputs": [],
   "source": [
    "def solution(my_string, queries):\n",
    "    # 문자열은 불변 객체이기 때문에 인덱스를 통해 직접적으로 바꿀 수 없음 -> 리스트화\n",
    "    my_string = list(my_string)\n",
    "    for j, k in queries:\n",
    "         my_string[j:k+1] = my_string[j:k+1][::-1]  # j부터 k까지를 슬라이싱 후 뒤집기\n",
    "    return ''.join(my_string)"
   ]
  },
  {
   "cell_type": "code",
   "execution_count": 76,
   "id": "5a261ddc-4d77-4cf5-adb0-579966f736f9",
   "metadata": {},
   "outputs": [
    {
     "data": {
      "text/plain": [
       "'programmers'"
      ]
     },
     "execution_count": 76,
     "metadata": {},
     "output_type": "execute_result"
    }
   ],
   "source": [
    "solution(\"rermgorpsam\", [[2, 3], [0, 7], [5, 9], [6, 10]])"
   ]
  }
 ],
 "metadata": {
  "kernelspec": {
   "display_name": "Python 3 (ipykernel)",
   "language": "python",
   "name": "python3"
  },
  "language_info": {
   "codemirror_mode": {
    "name": "ipython",
    "version": 3
   },
   "file_extension": ".py",
   "mimetype": "text/x-python",
   "name": "python",
   "nbconvert_exporter": "python",
   "pygments_lexer": "ipython3",
   "version": "3.12.4"
  }
 },
 "nbformat": 4,
 "nbformat_minor": 5
}
