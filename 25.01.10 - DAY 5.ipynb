{
 "cells": [
  {
   "cell_type": "markdown",
   "id": "d7139a69-d9cb-4e18-9474-f1ba72dd75f2",
   "metadata": {},
   "source": [
    "## DAY 5"
   ]
  },
  {
   "cell_type": "markdown",
   "id": "d8120de9-e2bd-4787-ab83-df665ea28e18",
   "metadata": {},
   "source": [
    "#### 1. 코드 처리하기"
   ]
  },
  {
   "cell_type": "raw",
   "id": "4e2f7760-d334-4bd3-85c0-3a53836e5ad6",
   "metadata": {},
   "source": [
    "- 문제 설명: 문자열 code가 주어집니다.\n",
    "code를 앞에서부터 읽으면서 만약 문자가 \"1\"이면 mode를 바꿉니다. mode에 따라 code를 읽어가면서 문자열 ret을 만들어냅니다.\n",
    "\n",
    "mode는 0과 1이 있으며, idx를 0 부터 code의 길이 - 1 까지 1씩 키워나가면서 code[idx]의 값에 따라 다음과 같이 행동합니다.\n",
    "\n",
    "mode가 0일 때\n",
    "code[idx]가 \"1\"이 아니면 idx가 짝수일 때만 ret의 맨 뒤에 code[idx]를 추가합니다.\n",
    "code[idx]가 \"1\"이면 mode를 0에서 1로 바꿉니다.\n",
    "mode가 1일 때\n",
    "code[idx]가 \"1\"이 아니면 idx가 홀수일 때만 ret의 맨 뒤에 code[idx]를 추가합니다.\n",
    "code[idx]가 \"1\"이면 mode를 1에서 0으로 바꿉니다.\n",
    "문자열 code를 통해 만들어진 문자열 ret를 return 하는 solution 함수를 완성해 주세요.\n",
    "\n",
    "단, 시작할 때 mode는 0이며, return 하려는 ret가 만약 빈 문자열이라면 대신 \"EMPTY\"를 return 합니다."
   ]
  },
  {
   "cell_type": "code",
   "execution_count": 11,
   "id": "c56a4366-6dff-48a9-b1cd-a7a64812caa5",
   "metadata": {},
   "outputs": [],
   "source": [
    "def solution(code):\n",
    "    answer = ''\n",
    "    mode = 0\n",
    "\n",
    "    for idx in range(0, len(code)):\n",
    "        if mode == 0:\n",
    "            if code[idx] == \"1\":\n",
    "                mode = 1\n",
    "            elif idx % 2 == 0:\n",
    "                answer += code[idx]\n",
    "            else:\n",
    "                continue\n",
    "        else:\n",
    "            if code[idx] == \"1\":\n",
    "                mode = 0\n",
    "            elif idx % 2 == 1:\n",
    "                answer += code[idx]\n",
    "            else:\n",
    "                continue\n",
    "\n",
    "    if answer == '':\n",
    "        answer = \"EMPTY\"\n",
    "\n",
    "    return answer"
   ]
  },
  {
   "cell_type": "code",
   "execution_count": 13,
   "id": "950d67cf-e3a9-4de8-84f2-5baffbc3cb1f",
   "metadata": {},
   "outputs": [
    {
     "data": {
      "text/plain": [
       "'acbac'"
      ]
     },
     "execution_count": 13,
     "metadata": {},
     "output_type": "execute_result"
    }
   ],
   "source": [
    "solution(\"abc1abc1abc\")"
   ]
  },
  {
   "cell_type": "code",
   "execution_count": 19,
   "id": "6f66104a-1298-432f-822c-9e1ef05fc3b3",
   "metadata": {},
   "outputs": [],
   "source": [
    "# 한줄 코드\n",
    "def solution(code):\n",
    "    return \"\".join(code.split(\"1\"))[::2] or \"EMPTY\"\n",
    "\n",
    "# code.split(\"1\"): \"1\"을 기준으로 code 나누기\n",
    "# \"\".join(code.split(\"1\") -> \"1\"이 없는 문자열이 만들어짐\n",
    "# 짝수의 인덱스만 출력 \"1\"을 제거해 mode의 값도 고려했음"
   ]
  },
  {
   "cell_type": "code",
   "execution_count": 21,
   "id": "115d2a66-b7ec-4771-9078-52a261ce4b70",
   "metadata": {},
   "outputs": [
    {
     "data": {
      "text/plain": [
       "'acbac'"
      ]
     },
     "execution_count": 21,
     "metadata": {},
     "output_type": "execute_result"
    }
   ],
   "source": [
    "solution(\"abc1abc1abc\")"
   ]
  },
  {
   "cell_type": "markdown",
   "id": "2ee5fed6-12a0-4b78-8844-c40faeaf72b1",
   "metadata": {},
   "source": [
    "#### 2. 등차수열의 특정한 항만 더하기\n"
   ]
  },
  {
   "cell_type": "raw",
   "id": "e5a5deed-6109-4f81-9dd1-94fb1a17a41f",
   "metadata": {},
   "source": [
    "- 문제 설명: 두 정수 a, d와 길이가 n인 boolean 배열 included가 주어집니다. \n",
    "첫째항이 a, 공차가 d인 등차수열에서 included[i]가 i + 1항을 의미할 때, \n",
    "이 등차수열의 1항부터 n항까지 included가 true인 항들만 더한 값을 return 하는 solution 함수를 작성해 주세요."
   ]
  },
  {
   "cell_type": "code",
   "execution_count": 80,
   "id": "075ccdd8-29e0-4dda-8002-af1b9feeccf1",
   "metadata": {},
   "outputs": [],
   "source": [
    "def solution(a, d, included):\n",
    "    answer = 0\n",
    "    number = []\n",
    "    \n",
    "    for i in range(a, a + d*len(included), d):\n",
    "        number.append(i)\n",
    "\n",
    "    for idx in range(0, len(included)):\n",
    "        if included[idx] == True:\n",
    "            answer += number[idx]\n",
    "        else:\n",
    "            continue\n",
    "\n",
    "    return answer"
   ]
  },
  {
   "cell_type": "code",
   "execution_count": 76,
   "id": "9d90478b-f760-45b8-8ba1-cdd71c520e89",
   "metadata": {
    "scrolled": true
   },
   "outputs": [
    {
     "data": {
      "text/plain": [
       "37"
      ]
     },
     "execution_count": 76,
     "metadata": {},
     "output_type": "execute_result"
    }
   ],
   "source": [
    "solution(3, 4, [True, False, False, True, True])"
   ]
  },
  {
   "cell_type": "code",
   "execution_count": 78,
   "id": "89e5353b-39dd-45a7-ba82-e6b227a5419f",
   "metadata": {},
   "outputs": [
    {
     "data": {
      "text/plain": [
       "10"
      ]
     },
     "execution_count": 78,
     "metadata": {},
     "output_type": "execute_result"
    }
   ],
   "source": [
    "solution(7, 1, [False, False, False, True, False, False])"
   ]
  },
  {
   "cell_type": "code",
   "execution_count": 86,
   "id": "92b01ad1-ecd7-4955-80e7-0cce2b707496",
   "metadata": {},
   "outputs": [],
   "source": [
    "def solution(a, d, included):\n",
    "    answer = 0\n",
    "\n",
    "    for i in range(len(included)): # included의 길이만큼 for 문\n",
    "        answer += (a + d * i ) * int(included[i]) # 각 항의 등차수열을 구한뒤 해당 인덱스의 값이 True일때만 answer에 더해줌\n",
    "\n",
    "    return answer"
   ]
  },
  {
   "cell_type": "code",
   "execution_count": 88,
   "id": "3c0f817e-f14f-468c-8384-f34f2f3fefad",
   "metadata": {},
   "outputs": [
    {
     "data": {
      "text/plain": [
       "37"
      ]
     },
     "execution_count": 88,
     "metadata": {},
     "output_type": "execute_result"
    }
   ],
   "source": [
    "solution(3, 4, [True, False, False, True, True])"
   ]
  },
  {
   "cell_type": "markdown",
   "id": "b893c442-005e-47e5-a3f9-5acff99c2922",
   "metadata": {},
   "source": [
    "#### 3. 주사위 게임 2"
   ]
  },
  {
   "cell_type": "raw",
   "id": "d817289c-5650-4628-885f-de9d1473df88",
   "metadata": {},
   "source": [
    "- 문제 설명: 1부터 6까지 숫자가 적힌 주사위가 세 개 있습니다. 세 주사위를 굴렸을 때 나온 숫자를 각각 a, b, c라고 했을 때 얻는 점수는 다음과 같습니다.\n",
    "\n",
    "세 숫자가 모두 다르다면 a + b + c 점을 얻습니다.\n",
    "세 숫자 중 어느 두 숫자는 같고 나머지 다른 숫자는 다르다면 (a + b + c) × (a2 + b2 + c2 )점을 얻습니다.\n",
    "세 숫자가 모두 같다면 (a + b + c) × (a2 + b2 + c2 ) × (a3 + b3 + c3 )점을 얻습니다.\n",
    "\n",
    "세 정수 a, b, c가 매개변수로 주어질 때, 얻는 점수를 return 하는 solution 함수를 작성해 주세요."
   ]
  },
  {
   "cell_type": "code",
   "execution_count": 93,
   "id": "1dac35c5-6f45-4df9-a387-fe77a13474d5",
   "metadata": {},
   "outputs": [],
   "source": [
    "def solution(a, b, c):\n",
    "    answer = 0\n",
    "    \n",
    "    if (a==b) & (a==c):\n",
    "        answer = (a+b+c) * (a**2+b**2+c**2) * (a**3+b**3+c**3)\n",
    "    elif (a==b) or (b==c) or (a==c):\n",
    "        answer = (a+b+c) * (a**2+b**2+c**2)\n",
    "    else:\n",
    "        answer = a+b+c\n",
    "\n",
    "    return answer        "
   ]
  },
  {
   "cell_type": "code",
   "execution_count": 95,
   "id": "cb2e8f3f-4c9f-4de9-9e43-c51745274177",
   "metadata": {},
   "outputs": [
    {
     "data": {
      "text/plain": [
       "9"
      ]
     },
     "execution_count": 95,
     "metadata": {},
     "output_type": "execute_result"
    }
   ],
   "source": [
    "solution(2, 6, 1)"
   ]
  },
  {
   "cell_type": "code",
   "execution_count": 98,
   "id": "9c32aea0-e08d-47a2-9e6c-d28df0bfbe9d",
   "metadata": {},
   "outputs": [
    {
     "data": {
      "text/plain": [
       "473"
      ]
     },
     "execution_count": 98,
     "metadata": {},
     "output_type": "execute_result"
    }
   ],
   "source": [
    "solution(5, 3, 3)"
   ]
  },
  {
   "cell_type": "code",
   "execution_count": 100,
   "id": "c36e3d66-7b69-4b3d-b0d9-6ab6faa4bf2a",
   "metadata": {
    "scrolled": true
   },
   "outputs": [
    {
     "data": {
      "text/plain": [
       "110592"
      ]
     },
     "execution_count": 100,
     "metadata": {},
     "output_type": "execute_result"
    }
   ],
   "source": [
    "solution(4, 4, 4)"
   ]
  },
  {
   "cell_type": "code",
   "execution_count": 104,
   "id": "629028f9-eaff-4196-871f-4f1aa2ac084d",
   "metadata": {},
   "outputs": [],
   "source": [
    "def solution(a, b, c):\n",
    "    check = len(set([a,b,c])) # set()를 활용하여 list 속 중복값 없애기 -> len을 사용하여 고유값 계산\n",
    "\n",
    "    if check == 1: # 3개의 값이 중복됐다면\n",
    "        return 3*a*3*(a**2)*3*(a**3)\n",
    "    elif check == 2: # 2개의 값만 중복됐다면\n",
    "        return (a+b+c)*(a**2+b**2+c**2)\n",
    "    else: # check = 3 / 다 다른 값이라면\n",
    "        return (a+b+c)"
   ]
  },
  {
   "cell_type": "code",
   "execution_count": 106,
   "id": "ee325694-01de-422e-8947-8cbeb8e758fa",
   "metadata": {},
   "outputs": [
    {
     "data": {
      "text/plain": [
       "9"
      ]
     },
     "execution_count": 106,
     "metadata": {},
     "output_type": "execute_result"
    }
   ],
   "source": [
    "solution(2, 6, 1)"
   ]
  },
  {
   "cell_type": "code",
   "execution_count": 108,
   "id": "9ff640e7-d5d3-431d-ac0d-f23c6c0f2c45",
   "metadata": {},
   "outputs": [
    {
     "data": {
      "text/plain": [
       "473"
      ]
     },
     "execution_count": 108,
     "metadata": {},
     "output_type": "execute_result"
    }
   ],
   "source": [
    "solution(5, 3, 3)"
   ]
  },
  {
   "cell_type": "code",
   "execution_count": 110,
   "id": "efbebf09-1753-4474-a040-9da52b1643f6",
   "metadata": {},
   "outputs": [
    {
     "data": {
      "text/plain": [
       "110592"
      ]
     },
     "execution_count": 110,
     "metadata": {},
     "output_type": "execute_result"
    }
   ],
   "source": [
    "solution(4, 4, 4)"
   ]
  },
  {
   "cell_type": "markdown",
   "id": "af3e3344-4c44-489e-a0a9-e6b55c9e1e02",
   "metadata": {},
   "source": [
    "#### 4. 원소들의 곱과 합"
   ]
  },
  {
   "cell_type": "raw",
   "id": "6d9bf96c-55da-4cf1-a5b8-bd3118bf3be3",
   "metadata": {},
   "source": [
    "- 문제 설명: 정수가 담긴 리스트 num_list가 주어질 때, 모든 원소들의 곱이 모든 원소들의 합의 제곱보다 작으면 1을 \n",
    "크면 0을 return하도록 solution 함수를 완성해주세요."
   ]
  },
  {
   "cell_type": "code",
   "execution_count": 163,
   "id": "0a578e73-075e-46a1-989a-23f4efb7e238",
   "metadata": {},
   "outputs": [],
   "source": [
    "def solution(num_list):\n",
    "    list_sum = sum(num_list) ** 2\n",
    "    list_product = 1\n",
    "\n",
    "    for i in num_list:\n",
    "        list_product *= i\n",
    "\n",
    "    if list_product < list_sum:\n",
    "        return 1\n",
    "    else:\n",
    "        return 0        "
   ]
  },
  {
   "cell_type": "code",
   "execution_count": 165,
   "id": "daf85607-bd95-493f-8c7d-c614b7c65f11",
   "metadata": {},
   "outputs": [
    {
     "data": {
      "text/plain": [
       "1"
      ]
     },
     "execution_count": 165,
     "metadata": {},
     "output_type": "execute_result"
    }
   ],
   "source": [
    "solution([3,4,5,2,1])"
   ]
  },
  {
   "cell_type": "code",
   "execution_count": 167,
   "id": "09d9d4e6-2730-4eb5-9e99-d1efdbbd9244",
   "metadata": {},
   "outputs": [
    {
     "data": {
      "text/plain": [
       "0"
      ]
     },
     "execution_count": 167,
     "metadata": {},
     "output_type": "execute_result"
    }
   ],
   "source": [
    "solution([5,7,8,3])"
   ]
  },
  {
   "cell_type": "code",
   "execution_count": 173,
   "id": "811cf3e4-28b4-40e4-aad2-48b745784bcf",
   "metadata": {},
   "outputs": [],
   "source": [
    "def solution(num_list):\n",
    "    s = sum(num_list) ** 2\n",
    "    m = eval('*'.join([str(n) for n in num_list]))\n",
    "\n",
    "    return 1 if s>m else 0"
   ]
  },
  {
   "cell_type": "code",
   "execution_count": 175,
   "id": "cc0bebc8-b3b9-44f5-9cf4-aaf9a3cc8762",
   "metadata": {},
   "outputs": [
    {
     "data": {
      "text/plain": [
       "1"
      ]
     },
     "execution_count": 175,
     "metadata": {},
     "output_type": "execute_result"
    }
   ],
   "source": [
    "solution([3,4,5,2,1])"
   ]
  },
  {
   "cell_type": "code",
   "execution_count": 177,
   "id": "35a78c82-09db-4cf1-acd8-24e451446582",
   "metadata": {},
   "outputs": [
    {
     "data": {
      "text/plain": [
       "0"
      ]
     },
     "execution_count": 177,
     "metadata": {},
     "output_type": "execute_result"
    }
   ],
   "source": [
    "solution([5,7,8,3])"
   ]
  },
  {
   "cell_type": "markdown",
   "id": "54f0ab51-6d05-4c78-a974-6d1399c698e4",
   "metadata": {},
   "source": [
    "#### 5. 이어 붙인 수"
   ]
  },
  {
   "cell_type": "raw",
   "id": "6e5e8d32-e6ea-4cac-8ce5-a7bed0eddcaa",
   "metadata": {},
   "source": [
    "- 문제 설명: 정수가 담긴 리스트 num_list가 주어집니다. \n",
    "num_list의 홀수만 순서대로 이어 붙인 수와 짝수만 순서대로 이어 붙인 수의 합을 return하도록 solution 함수를 완성해주세요."
   ]
  },
  {
   "cell_type": "code",
   "execution_count": 194,
   "id": "aa38883a-49a8-4bbb-8e2e-29916d924893",
   "metadata": {},
   "outputs": [],
   "source": [
    "def solution(num_list):\n",
    "    odd= ''\n",
    "    even= ''\n",
    "    for i in num_list:\n",
    "        if i % 2 == 1:\n",
    "            odd += str(i)\n",
    "        else:\n",
    "            even += str(i)\n",
    "\n",
    "    return eval(\"+\".join([odd, even]))"
   ]
  },
  {
   "cell_type": "code",
   "execution_count": 196,
   "id": "5a261ddc-4d77-4cf5-adb0-579966f736f9",
   "metadata": {},
   "outputs": [
    {
     "data": {
      "text/plain": [
       "393"
      ]
     },
     "execution_count": 196,
     "metadata": {},
     "output_type": "execute_result"
    }
   ],
   "source": [
    "solution([3,4,5,2,1])"
   ]
  },
  {
   "cell_type": "code",
   "execution_count": 200,
   "id": "cc18b68e-e0e7-41b4-9d34-ec53d88bfd6e",
   "metadata": {},
   "outputs": [
    {
     "data": {
      "text/plain": [
       "581"
      ]
     },
     "execution_count": 200,
     "metadata": {},
     "output_type": "execute_result"
    }
   ],
   "source": [
    "solution([5,7,8,3])"
   ]
  }
 ],
 "metadata": {
  "kernelspec": {
   "display_name": "Python 3 (ipykernel)",
   "language": "python",
   "name": "python3"
  },
  "language_info": {
   "codemirror_mode": {
    "name": "ipython",
    "version": 3
   },
   "file_extension": ".py",
   "mimetype": "text/x-python",
   "name": "python",
   "nbconvert_exporter": "python",
   "pygments_lexer": "ipython3",
   "version": "3.12.4"
  }
 },
 "nbformat": 4,
 "nbformat_minor": 5
}
