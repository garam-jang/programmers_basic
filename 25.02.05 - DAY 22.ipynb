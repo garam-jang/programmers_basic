{
 "cells": [
  {
   "cell_type": "markdown",
   "id": "d7139a69-d9cb-4e18-9474-f1ba72dd75f2",
   "metadata": {},
   "source": [
    "## DAY 22"
   ]
  },
  {
   "cell_type": "markdown",
   "id": "d8120de9-e2bd-4787-ab83-df665ea28e18",
   "metadata": {},
   "source": [
    "#### 1. 0 떼기"
   ]
  },
  {
   "cell_type": "markdown",
   "id": "c98aaa27-0cb4-4fd1-bfef-6f5ba84f4eb3",
   "metadata": {},
   "source": [
    "- 문제 설명: 정수로 이루어진 문자열 n_str이 주어질 때, n_str의 가장 왼쪽에 처음으로 등장하는 0들을 뗀 문자열을 return하도록 solution 함수를 완성해주세요."
   ]
  },
  {
   "cell_type": "code",
   "execution_count": 16,
   "id": "c56a4366-6dff-48a9-b1cd-a7a64812caa5",
   "metadata": {},
   "outputs": [],
   "source": [
    "def solution(n_str):\n",
    "    while n_str[0] == \"0\":\n",
    "        n_str = n_str[1:]\n",
    "    return n_str"
   ]
  },
  {
   "cell_type": "code",
   "execution_count": 24,
   "id": "950d67cf-e3a9-4de8-84f2-5baffbc3cb1f",
   "metadata": {},
   "outputs": [
    {
     "data": {
      "text/plain": [
       "'10'"
      ]
     },
     "execution_count": 24,
     "metadata": {},
     "output_type": "execute_result"
    }
   ],
   "source": [
    "solution(\"0010\")"
   ]
  },
  {
   "cell_type": "code",
   "execution_count": 26,
   "id": "8c4f8321-96bb-4a07-9d05-88e54299bf21",
   "metadata": {
    "scrolled": true
   },
   "outputs": [
    {
     "data": {
      "text/plain": [
       "'854020'"
      ]
     },
     "execution_count": 26,
     "metadata": {},
     "output_type": "execute_result"
    }
   ],
   "source": [
    "solution(\"854020\")"
   ]
  },
  {
   "cell_type": "code",
   "execution_count": 22,
   "id": "c8a914bb-b0e2-4fa1-a400-20abd4b1006a",
   "metadata": {},
   "outputs": [],
   "source": [
    "def solution(n_str):\n",
    "    return n_str.lstrip('0')"
   ]
  },
  {
   "cell_type": "markdown",
   "id": "2ee5fed6-12a0-4b78-8844-c40faeaf72b1",
   "metadata": {},
   "source": [
    "#### 2. 두 수의 합"
   ]
  },
  {
   "cell_type": "markdown",
   "id": "e9bdf058-4708-47fd-9460-35176b427d3c",
   "metadata": {},
   "source": [
    "- 문제 설명: 0 이상의 두 정수가 문자열 a, b로 주어질 때, a + b의 값을 문자열로 return 하는 solution 함수를 작성해 주세요."
   ]
  },
  {
   "cell_type": "code",
   "execution_count": 48,
   "id": "075ccdd8-29e0-4dda-8002-af1b9feeccf1",
   "metadata": {},
   "outputs": [],
   "source": [
    "def solution(a, b):\n",
    "    list = [a, b]\n",
    "    return str(eval('+'.join(list)))"
   ]
  },
  {
   "cell_type": "code",
   "execution_count": 58,
   "id": "9d90478b-f760-45b8-8ba1-cdd71c520e89",
   "metadata": {
    "scrolled": true
   },
   "outputs": [
    {
     "data": {
      "text/plain": [
       "'1316'"
      ]
     },
     "execution_count": 58,
     "metadata": {},
     "output_type": "execute_result"
    }
   ],
   "source": [
    "solution(\"582\", \"734\")"
   ]
  },
  {
   "cell_type": "code",
   "execution_count": 60,
   "id": "59930e78-c4ae-48a7-847c-1ffdcf21cd03",
   "metadata": {},
   "outputs": [
    {
     "data": {
      "text/plain": [
       "'0'"
      ]
     },
     "execution_count": 60,
     "metadata": {},
     "output_type": "execute_result"
    }
   ],
   "source": [
    "solution(\"0\", \"0\")"
   ]
  },
  {
   "cell_type": "code",
   "execution_count": 56,
   "id": "2a4f95ef-2738-4eec-be1b-33bab916ae35",
   "metadata": {},
   "outputs": [],
   "source": [
    "def solution(a, b):\n",
    "    return str(int(a) + int(b))"
   ]
  },
  {
   "cell_type": "markdown",
   "id": "b893c442-005e-47e5-a3f9-5acff99c2922",
   "metadata": {},
   "source": [
    "#### 3. 문자열로 변환"
   ]
  },
  {
   "cell_type": "markdown",
   "id": "79e1e4a4-2d86-43a9-82f5-e25ccfa6a964",
   "metadata": {},
   "source": [
    "- 문제 설명: 정수 n이 주어질 때, n을 문자열로 변환하여 return하도록 solution 함수를 완성해주세요."
   ]
  },
  {
   "cell_type": "code",
   "execution_count": 64,
   "id": "1dac35c5-6f45-4df9-a387-fe77a13474d5",
   "metadata": {},
   "outputs": [],
   "source": [
    "def solution(n):\n",
    "    return str(n)"
   ]
  },
  {
   "cell_type": "code",
   "execution_count": 66,
   "id": "cb2e8f3f-4c9f-4de9-9e43-c51745274177",
   "metadata": {},
   "outputs": [
    {
     "data": {
      "text/plain": [
       "'123'"
      ]
     },
     "execution_count": 66,
     "metadata": {},
     "output_type": "execute_result"
    }
   ],
   "source": [
    "solution(123)"
   ]
  },
  {
   "cell_type": "markdown",
   "id": "af3e3344-4c44-489e-a0a9-e6b55c9e1e02",
   "metadata": {},
   "source": [
    "#### 4. 배열의 원소 삭제하기"
   ]
  },
  {
   "cell_type": "markdown",
   "id": "db64fa08-be77-4089-9683-f22b30aa65b8",
   "metadata": {},
   "source": [
    "- 문제 설명: 정수 배열 arr과 delete_list가 있습니다. arr의 원소 중 delete_list의 원소를 모두 삭제하고 남은 원소들은 기존의 arr에 있던 순서를 유지한 배열을 return 하는 solution 함수를 작성해 주세요."
   ]
  },
  {
   "cell_type": "code",
   "execution_count": 142,
   "id": "0a578e73-075e-46a1-989a-23f4efb7e238",
   "metadata": {},
   "outputs": [],
   "source": [
    "def solution(arr, delete_list):\n",
    "    for i in delete_list:\n",
    "        if i in arr:\n",
    "            arr.remove(i)\n",
    "    return arr"
   ]
  },
  {
   "cell_type": "code",
   "execution_count": 148,
   "id": "ee892357-a366-4a35-b836-99e80495bfb7",
   "metadata": {},
   "outputs": [
    {
     "data": {
      "text/plain": [
       "[293, 395, 678]"
      ]
     },
     "execution_count": 148,
     "metadata": {},
     "output_type": "execute_result"
    }
   ],
   "source": [
    "solution([293, 1000, 395, 678, 94], [94, 777, 104, 1000, 1, 12])"
   ]
  },
  {
   "cell_type": "code",
   "execution_count": 146,
   "id": "03073763-957b-47e9-87b8-4238e605944d",
   "metadata": {},
   "outputs": [],
   "source": [
    "def soluion(arr, delete_list):\n",
    "    return [i for i in arr if i not in delete_list]"
   ]
  },
  {
   "cell_type": "markdown",
   "id": "54f0ab51-6d05-4c78-a974-6d1399c698e4",
   "metadata": {},
   "source": [
    "#### 5. 부분 문자열인지 확인하기"
   ]
  },
  {
   "cell_type": "markdown",
   "id": "7157a453-67a2-43cf-b11f-354721707532",
   "metadata": {},
   "source": [
    "- 문제 설명: 부분 문자열이란 문자열에서 연속된 일부분에 해당하는 문자열을 의미합니다. 예를 들어, 문자열 \"ana\", \"ban\", \"anana\", \"banana\", \"n\"는 모두 문자열 \"banana\"의 부분 문자열이지만, \"aaa\", \"bnana\", \"wxyz\"는 모두 \"banana\"의 부분 문자열이 아닙니다.\r\n",
    "\r\n",
    "문자열 my_string과 target이 매개변수로 주어질 때, target이 문자열 my_string의 부분 문자열이라면 1을, 아니라면 0을 return 하는 solution 함수를 작성해 주세요."
   ]
  },
  {
   "cell_type": "code",
   "execution_count": 88,
   "id": "aa38883a-49a8-4bbb-8e2e-29916d924893",
   "metadata": {},
   "outputs": [],
   "source": [
    "def solution(my_string, target):\n",
    "    if target in my_string:\n",
    "        return 1\n",
    "    return 0"
   ]
  },
  {
   "cell_type": "code",
   "execution_count": 96,
   "id": "5a261ddc-4d77-4cf5-adb0-579966f736f9",
   "metadata": {},
   "outputs": [
    {
     "data": {
      "text/plain": [
       "1"
      ]
     },
     "execution_count": 96,
     "metadata": {},
     "output_type": "execute_result"
    }
   ],
   "source": [
    "solution(\"banana\", \"ana\")"
   ]
  },
  {
   "cell_type": "code",
   "execution_count": 98,
   "id": "46648a31-1fff-4d95-9f8d-150c9ca7ecb0",
   "metadata": {},
   "outputs": [
    {
     "data": {
      "text/plain": [
       "0"
      ]
     },
     "execution_count": 98,
     "metadata": {},
     "output_type": "execute_result"
    }
   ],
   "source": [
    "solution(\"banana\", \"wxyz\")"
   ]
  },
  {
   "cell_type": "code",
   "execution_count": 94,
   "id": "2f3d0576-ffc0-47ba-92c6-05892bc46652",
   "metadata": {},
   "outputs": [],
   "source": [
    "# 더 간단하게\n",
    "def solution(my_string, target):\n",
    "    return int(target in my_string)"
   ]
  }
 ],
 "metadata": {
  "kernelspec": {
   "display_name": "Python 3 (ipykernel)",
   "language": "python",
   "name": "python3"
  },
  "language_info": {
   "codemirror_mode": {
    "name": "ipython",
    "version": 3
   },
   "file_extension": ".py",
   "mimetype": "text/x-python",
   "name": "python",
   "nbconvert_exporter": "python",
   "pygments_lexer": "ipython3",
   "version": "3.12.4"
  }
 },
 "nbformat": 4,
 "nbformat_minor": 5
}
