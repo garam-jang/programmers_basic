{
 "cells": [
  {
   "cell_type": "markdown",
   "id": "d7139a69-d9cb-4e18-9474-f1ba72dd75f2",
   "metadata": {},
   "source": [
    "## DAY 4"
   ]
  },
  {
   "cell_type": "markdown",
   "id": "d8120de9-e2bd-4787-ab83-df665ea28e18",
   "metadata": {},
   "source": [
    "#### 1. n의 배수"
   ]
  },
  {
   "cell_type": "raw",
   "id": "4e2f7760-d334-4bd3-85c0-3a53836e5ad6",
   "metadata": {},
   "source": [
    "- 문제 설명: 정수 num과 n이 매개 변수로 주어질 때, num이 n의 배수이면 1을 return n의 배수가 아니라면 0을 return하도록 solution 함수를 완성해주세요."
   ]
  },
  {
   "cell_type": "code",
   "execution_count": 3,
   "id": "c56a4366-6dff-48a9-b1cd-a7a64812caa5",
   "metadata": {},
   "outputs": [],
   "source": [
    "def solution(num, n):\n",
    "    if num % n == 0:\n",
    "        answer = 1\n",
    "    else:\n",
    "        answer = 0\n",
    "    return answer"
   ]
  },
  {
   "cell_type": "code",
   "execution_count": 5,
   "id": "950d67cf-e3a9-4de8-84f2-5baffbc3cb1f",
   "metadata": {},
   "outputs": [
    {
     "data": {
      "text/plain": [
       "1"
      ]
     },
     "execution_count": 5,
     "metadata": {},
     "output_type": "execute_result"
    }
   ],
   "source": [
    "solution(98,2)"
   ]
  },
  {
   "cell_type": "code",
   "execution_count": 7,
   "id": "93a83456-5d9a-4ecd-959f-7ba493fc82fd",
   "metadata": {},
   "outputs": [],
   "source": [
    "# 한줄코드\n",
    "def solution(num, n):\n",
    "    return int(num % n == 0) # 배수이면 TURE(1) / 아니면 FALSE(0)으로 출력"
   ]
  },
  {
   "cell_type": "code",
   "execution_count": 9,
   "id": "90b1749c-5e34-453b-9b46-280236e803df",
   "metadata": {},
   "outputs": [
    {
     "data": {
      "text/plain": [
       "0"
      ]
     },
     "execution_count": 9,
     "metadata": {},
     "output_type": "execute_result"
    }
   ],
   "source": [
    "solution(100,3)"
   ]
  },
  {
   "cell_type": "markdown",
   "id": "2ee5fed6-12a0-4b78-8844-c40faeaf72b1",
   "metadata": {},
   "source": [
    "#### 2. 공배수"
   ]
  },
  {
   "cell_type": "raw",
   "id": "e5a5deed-6109-4f81-9dd1-94fb1a17a41f",
   "metadata": {},
   "source": [
    "- 문제 설명: 정수 number와 n, m이 주어집니다. number가 n의 배수이면서 m의 배수이면 1을 아니라면 0을 return하도록 solution 함수를 완성해주세요."
   ]
  },
  {
   "cell_type": "code",
   "execution_count": 12,
   "id": "075ccdd8-29e0-4dda-8002-af1b9feeccf1",
   "metadata": {},
   "outputs": [],
   "source": [
    "def solution(number, n, m):\n",
    "    if (number % n == 0) & (number % m == 0):\n",
    "        answer = 1\n",
    "    else:\n",
    "        answer = 0\n",
    "    return answer"
   ]
  },
  {
   "cell_type": "code",
   "execution_count": 14,
   "id": "9d90478b-f760-45b8-8ba1-cdd71c520e89",
   "metadata": {},
   "outputs": [
    {
     "data": {
      "text/plain": [
       "1"
      ]
     },
     "execution_count": 14,
     "metadata": {},
     "output_type": "execute_result"
    }
   ],
   "source": [
    "solution(60, 2, 3)"
   ]
  },
  {
   "cell_type": "code",
   "execution_count": 16,
   "id": "08897d5f-77e4-4942-b48c-ee16478c6bee",
   "metadata": {},
   "outputs": [],
   "source": [
    "def solution(number, n, m):\n",
    "    return int((number % n == 0) & (number % m == 0))"
   ]
  },
  {
   "cell_type": "code",
   "execution_count": 20,
   "id": "152daaa2-a132-4188-89e8-936be64eaa6f",
   "metadata": {},
   "outputs": [
    {
     "data": {
      "text/plain": [
       "1"
      ]
     },
     "execution_count": 20,
     "metadata": {},
     "output_type": "execute_result"
    }
   ],
   "source": [
    "solution(60, 2, 3)"
   ]
  },
  {
   "cell_type": "code",
   "execution_count": 24,
   "id": "ada727a4-a2a2-4970-8c67-4cb9e69d9af8",
   "metadata": {},
   "outputs": [
    {
     "data": {
      "text/plain": [
       "0"
      ]
     },
     "execution_count": 24,
     "metadata": {},
     "output_type": "execute_result"
    }
   ],
   "source": [
    "solution(55, 10, 5)"
   ]
  },
  {
   "cell_type": "markdown",
   "id": "b893c442-005e-47e5-a3f9-5acff99c2922",
   "metadata": {},
   "source": [
    "#### 3. 홀짝에 따라 다른 값 반환하기"
   ]
  },
  {
   "cell_type": "raw",
   "id": "d817289c-5650-4628-885f-de9d1473df88",
   "metadata": {},
   "source": [
    "- 문제 설명: 양의 정수 n이 매개변수로 주어질 때, n이 홀수라면 n 이하의 홀수인 모든 양의 정수의 합을 return 하고 \n",
    "n이 짝수라면 n 이하의 짝수인 모든 양의 정수의 제곱의 합을 return 하는 solution 함수를 작성해 주세요."
   ]
  },
  {
   "cell_type": "code",
   "execution_count": 61,
   "id": "1dac35c5-6f45-4df9-a387-fe77a13474d5",
   "metadata": {},
   "outputs": [],
   "source": [
    "def solution(n):\n",
    "    answer = 0\n",
    "    \n",
    "    if n % 2 == 1:\n",
    "        for i in range(1, n+1):\n",
    "            if i % 2 == 1:\n",
    "                answer += i\n",
    "            else:\n",
    "                continue\n",
    "    \n",
    "    else:\n",
    "        for i in range(1, n+1):\n",
    "            if i % 2 == 0:\n",
    "                answer += i**2\n",
    "            else:\n",
    "                continue\n",
    "    \n",
    "    \n",
    "    return answer"
   ]
  },
  {
   "cell_type": "code",
   "execution_count": 63,
   "id": "cb2e8f3f-4c9f-4de9-9e43-c51745274177",
   "metadata": {},
   "outputs": [
    {
     "data": {
      "text/plain": [
       "16"
      ]
     },
     "execution_count": 63,
     "metadata": {},
     "output_type": "execute_result"
    }
   ],
   "source": [
    "solution(7)"
   ]
  },
  {
   "cell_type": "code",
   "execution_count": 65,
   "id": "a324381b-5a60-4f25-9a3a-17645fa57964",
   "metadata": {},
   "outputs": [
    {
     "data": {
      "text/plain": [
       "220"
      ]
     },
     "execution_count": 65,
     "metadata": {},
     "output_type": "execute_result"
    }
   ],
   "source": [
    "solution(10)"
   ]
  },
  {
   "cell_type": "code",
   "execution_count": 67,
   "id": "06a270a8-0841-48f8-8328-92452472e72b",
   "metadata": {},
   "outputs": [],
   "source": [
    "def solution(n):\n",
    "    if n % 2: # 홀수라면 (if 1)\n",
    "        return sum(range(1, n+1, 2)) # 1부터 n까지 2단위씩 떨어진 숫자들(= 홀수)을 다 더하기\n",
    "    else: #짝수라면\n",
    "        return sum([i * i for i in range(2, n+1 , 2)]) #2부터 n까지 2단위씩 떨어진 숫자들(=짝수)를 제곱해서 다 더하기"
   ]
  },
  {
   "cell_type": "code",
   "execution_count": 69,
   "id": "89a9333c-8597-48cf-b063-ce2bb62e7a24",
   "metadata": {},
   "outputs": [
    {
     "data": {
      "text/plain": [
       "16"
      ]
     },
     "execution_count": 69,
     "metadata": {},
     "output_type": "execute_result"
    }
   ],
   "source": [
    "solution(7)"
   ]
  },
  {
   "cell_type": "code",
   "execution_count": 71,
   "id": "54c4113d-ff03-498b-a1dc-8169d776accb",
   "metadata": {},
   "outputs": [
    {
     "data": {
      "text/plain": [
       "220"
      ]
     },
     "execution_count": 71,
     "metadata": {},
     "output_type": "execute_result"
    }
   ],
   "source": [
    "solution(10)"
   ]
  },
  {
   "cell_type": "markdown",
   "id": "af3e3344-4c44-489e-a0a9-e6b55c9e1e02",
   "metadata": {},
   "source": [
    "#### 4. 조건 문자열"
   ]
  },
  {
   "cell_type": "raw",
   "id": "6d9bf96c-55da-4cf1-a5b8-bd3118bf3be3",
   "metadata": {},
   "source": [
    "- 문제 설명: 문자열에 따라 다음과 같이 두 수의 크기를 비교하려고 합니다.\n",
    "\n",
    "두 수가 n과 m이라면\n",
    "\">\", \"=\" : n >= m\n",
    "\"<\", \"=\" : n <= m\n",
    "\">\", \"!\" : n > m\n",
    "\"<\", \"!\" : n < m\n",
    "\n",
    "두 문자열 ineq와 eq가 주어집니다. ineq는 \"<\"와 \">\"중 하나고, eq는 \"=\"와 \"!\"중 하나입니다. 그리고 두 정수 n과 m이 주어질 때, n과 m이 ineq와 eq의 조건에 맞으면 1을 아니면 0을 return하도록 solution 함수를 완성해주세요."
   ]
  },
  {
   "cell_type": "code",
   "execution_count": 76,
   "id": "0a578e73-075e-46a1-989a-23f4efb7e238",
   "metadata": {},
   "outputs": [],
   "source": [
    "def solution(ineq, eq, n, m):\n",
    "    if (ineq == \">\") & (eq == \"=\") & (n >= m):\n",
    "        return 1\n",
    "    elif (ineq == \"<\") & (eq == \"=\") & (n <= m):\n",
    "        return 1\n",
    "    elif (ineq == \">\") & (eq == \"!\") & (n > m):\n",
    "        return 1\n",
    "    elif (ineq == \"<\") & (eq == \"!\") & (n < m):\n",
    "        return 1\n",
    "    else:\n",
    "        return 0        "
   ]
  },
  {
   "cell_type": "code",
   "execution_count": 78,
   "id": "445aa4eb-54ae-4394-a121-0eaca88a7a36",
   "metadata": {},
   "outputs": [
    {
     "data": {
      "text/plain": [
       "1"
      ]
     },
     "execution_count": 78,
     "metadata": {},
     "output_type": "execute_result"
    }
   ],
   "source": [
    "solution(\"<\", \"=\", 20, 50)"
   ]
  },
  {
   "cell_type": "code",
   "execution_count": 80,
   "id": "ee892357-a366-4a35-b836-99e80495bfb7",
   "metadata": {},
   "outputs": [
    {
     "data": {
      "text/plain": [
       "0"
      ]
     },
     "execution_count": 80,
     "metadata": {},
     "output_type": "execute_result"
    }
   ],
   "source": [
    "solution(\">\", \"!\", 41, 78)"
   ]
  },
  {
   "cell_type": "code",
   "execution_count": 92,
   "id": "1bc63ffa-9f53-4333-8786-3ca0e8ba28e1",
   "metadata": {},
   "outputs": [],
   "source": [
    "# 한줄 코드\n",
    "def solution(ineq, eq, n, m):\n",
    "    return int(eval(str(n) + ineq + eq.replace('!', '') + str(m)))\n",
    "\n",
    "# 1. n과 m을 문자열로 변환 / eq의 경우 !가 입력되면 공백으로 변경\n",
    "# 2. 각 문자열을 합쳐서 eval()함수에 집어넣음 -> 문자열의 식을 계산해서 결과를 반환함\n",
    "# 3. TRUE/FALSE의 값을 숫자로 변환"
   ]
  },
  {
   "cell_type": "code",
   "execution_count": 94,
   "id": "28f77782-ca75-428b-b002-5b76d958543d",
   "metadata": {},
   "outputs": [
    {
     "data": {
      "text/plain": [
       "1"
      ]
     },
     "execution_count": 94,
     "metadata": {},
     "output_type": "execute_result"
    }
   ],
   "source": [
    "solution(\"<\", \"=\", 20, 50)"
   ]
  },
  {
   "cell_type": "code",
   "execution_count": 96,
   "id": "f58789d1-38e9-44d6-bb12-2641eb88cfe7",
   "metadata": {},
   "outputs": [
    {
     "data": {
      "text/plain": [
       "0"
      ]
     },
     "execution_count": 96,
     "metadata": {},
     "output_type": "execute_result"
    }
   ],
   "source": [
    "solution(\">\", \"!\", 41, 78)"
   ]
  },
  {
   "cell_type": "markdown",
   "id": "54f0ab51-6d05-4c78-a974-6d1399c698e4",
   "metadata": {},
   "source": [
    "#### 5. flag에 따라 다른 값 반환하기"
   ]
  },
  {
   "cell_type": "raw",
   "id": "6e5e8d32-e6ea-4cac-8ce5-a7bed0eddcaa",
   "metadata": {},
   "source": [
    "- 문제 설명: 두 정수 a, b와 boolean 변수 flag가 매개변수로 주어질 때, \n",
    "flag가 true면 a + b를 false면 a - b를 return 하는 solution 함수를 작성해 주세요."
   ]
  },
  {
   "cell_type": "code",
   "execution_count": 123,
   "id": "aa38883a-49a8-4bbb-8e2e-29916d924893",
   "metadata": {},
   "outputs": [],
   "source": [
    "def solution(a, b, flag):\n",
    "    answer = 0\n",
    "    \n",
    "    if flag == True:\n",
    "        answer  = a + b\n",
    "    else:\n",
    "        answer = a - b\n",
    "    \n",
    "    return answer"
   ]
  },
  {
   "cell_type": "code",
   "execution_count": 125,
   "id": "5a261ddc-4d77-4cf5-adb0-579966f736f9",
   "metadata": {},
   "outputs": [
    {
     "data": {
      "text/plain": [
       "3"
      ]
     },
     "execution_count": 125,
     "metadata": {},
     "output_type": "execute_result"
    }
   ],
   "source": [
    "solution(-4, 7, True)"
   ]
  },
  {
   "cell_type": "code",
   "execution_count": 127,
   "id": "7985da25-f9c4-4f22-9673-566601ee3184",
   "metadata": {},
   "outputs": [
    {
     "data": {
      "text/plain": [
       "-11"
      ]
     },
     "execution_count": 127,
     "metadata": {},
     "output_type": "execute_result"
    }
   ],
   "source": [
    "solution(-4, 7, False)"
   ]
  },
  {
   "cell_type": "code",
   "execution_count": 129,
   "id": "6ce06a52-86f3-4463-8129-ae23ee3e7985",
   "metadata": {},
   "outputs": [],
   "source": [
    "# 한줄 코드\n",
    "def solution(a, b, flag):\n",
    "    if flag:\n",
    "        return a+b\n",
    "    return a - b"
   ]
  },
  {
   "cell_type": "code",
   "execution_count": 131,
   "id": "07437491-db83-4364-842c-a3bef4b947b2",
   "metadata": {},
   "outputs": [
    {
     "data": {
      "text/plain": [
       "3"
      ]
     },
     "execution_count": 131,
     "metadata": {},
     "output_type": "execute_result"
    }
   ],
   "source": [
    "solution(-4, 7, True)"
   ]
  },
  {
   "cell_type": "code",
   "execution_count": 133,
   "id": "630de8d0-9850-4771-bccb-5c81ae69634b",
   "metadata": {},
   "outputs": [
    {
     "data": {
      "text/plain": [
       "-11"
      ]
     },
     "execution_count": 133,
     "metadata": {},
     "output_type": "execute_result"
    }
   ],
   "source": [
    "solution(-4, 7, False)"
   ]
  }
 ],
 "metadata": {
  "kernelspec": {
   "display_name": "Python 3 (ipykernel)",
   "language": "python",
   "name": "python3"
  },
  "language_info": {
   "codemirror_mode": {
    "name": "ipython",
    "version": 3
   },
   "file_extension": ".py",
   "mimetype": "text/x-python",
   "name": "python",
   "nbconvert_exporter": "python",
   "pygments_lexer": "ipython3",
   "version": "3.12.4"
  }
 },
 "nbformat": 4,
 "nbformat_minor": 5
}
