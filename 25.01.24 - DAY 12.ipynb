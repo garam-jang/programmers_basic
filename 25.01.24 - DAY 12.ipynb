{
 "cells": [
  {
   "cell_type": "markdown",
   "id": "d7139a69-d9cb-4e18-9474-f1ba72dd75f2",
   "metadata": {},
   "source": [
    "## DAY 12"
   ]
  },
  {
   "cell_type": "markdown",
   "id": "d8120de9-e2bd-4787-ab83-df665ea28e18",
   "metadata": {},
   "source": [
    "#### 1. 리스트 자르기"
   ]
  },
  {
   "cell_type": "raw",
   "id": "4e2f7760-d334-4bd3-85c0-3a53836e5ad6",
   "metadata": {},
   "source": [
    "- 문제 설명: 정수 n과 정수 3개가 담긴 리스트 slicer 그리고 정수 여러 개가 담긴 리스트 num_list가 주어집니다. slicer에 담긴 정수를 차례대로 a, b, c라고 할 때, n에 따라 다음과 같이 num_list를 슬라이싱 하려고 합니다.\n",
    "\n",
    "n = 1 : num_list의 0번 인덱스부터 b번 인덱스까지\n",
    "n = 2 : num_list의 a번 인덱스부터 마지막 인덱스까지\n",
    "n = 3 : num_list의 a번 인덱스부터 b번 인덱스까지\n",
    "n = 4 : num_list의 a번 인덱스부터 b번 인덱스까지 c 간격으로\n",
    "올바르게 슬라이싱한 리스트를 return하도록 solution 함수를 완성해주세요."
   ]
  },
  {
   "cell_type": "code",
   "execution_count": 23,
   "id": "c56a4366-6dff-48a9-b1cd-a7a64812caa5",
   "metadata": {},
   "outputs": [],
   "source": [
    "def solution(n, slicer, num_list):\n",
    "    a, b, c = slicer\n",
    "    if n == 1:\n",
    "        return num_list[:b+1]\n",
    "    elif n == 2:\n",
    "        return num_list[a:]\n",
    "    elif n == 3:\n",
    "        return num_list[a:b+1]\n",
    "    else:\n",
    "        return num_list[a:b+1:c]"
   ]
  },
  {
   "cell_type": "code",
   "execution_count": 25,
   "id": "950d67cf-e3a9-4de8-84f2-5baffbc3cb1f",
   "metadata": {},
   "outputs": [
    {
     "data": {
      "text/plain": [
       "[2, 3, 4, 5, 6]"
      ]
     },
     "execution_count": 25,
     "metadata": {},
     "output_type": "execute_result"
    }
   ],
   "source": [
    "solution(3, [1, 5, 2], [1, 2, 3, 4, 5, 6, 7, 8, 9])"
   ]
  },
  {
   "cell_type": "code",
   "execution_count": 27,
   "id": "8c7b8285-5d31-4baf-9c22-acc6bb8b3b5d",
   "metadata": {},
   "outputs": [
    {
     "data": {
      "text/plain": [
       "[2, 4, 6]"
      ]
     },
     "execution_count": 27,
     "metadata": {},
     "output_type": "execute_result"
    }
   ],
   "source": [
    "solution(4, [1, 5, 2], [1, 2, 3, 4, 5, 6, 7, 8, 9])"
   ]
  },
  {
   "cell_type": "markdown",
   "id": "2ee5fed6-12a0-4b78-8844-c40faeaf72b1",
   "metadata": {},
   "source": [
    "#### 2. 첫 번쨰로 나오는 음수"
   ]
  },
  {
   "cell_type": "raw",
   "id": "e5a5deed-6109-4f81-9dd1-94fb1a17a41f",
   "metadata": {},
   "source": [
    "- 문제 설명: 정수 리스트 num_list가 주어질 때, 첫 번째로 나오는 음수의 인덱스를 return하도록 solution 함수를 완성해주세요. \n",
    "음수가 없다면 -1을 return합니다."
   ]
  },
  {
   "cell_type": "code",
   "execution_count": 48,
   "id": "075ccdd8-29e0-4dda-8002-af1b9feeccf1",
   "metadata": {},
   "outputs": [],
   "source": [
    "def solution(num_list):\n",
    "    for i in range(0, len(num_list)):\n",
    "        if num_list[i] < 0:\n",
    "            return i\n",
    "            #break\n",
    "    return -1"
   ]
  },
  {
   "cell_type": "code",
   "execution_count": 50,
   "id": "9d90478b-f760-45b8-8ba1-cdd71c520e89",
   "metadata": {},
   "outputs": [
    {
     "data": {
      "text/plain": [
       "5"
      ]
     },
     "execution_count": 50,
     "metadata": {},
     "output_type": "execute_result"
    }
   ],
   "source": [
    "solution([12, 4, 15, 46, 38, -2, 15])"
   ]
  },
  {
   "cell_type": "code",
   "execution_count": 52,
   "id": "583addf0-4e79-4b56-8165-2592063e1eb5",
   "metadata": {},
   "outputs": [
    {
     "data": {
      "text/plain": [
       "-1"
      ]
     },
     "execution_count": 52,
     "metadata": {},
     "output_type": "execute_result"
    }
   ],
   "source": [
    "solution([13, 22, 53, 24, 15, 6])"
   ]
  },
  {
   "cell_type": "markdown",
   "id": "b893c442-005e-47e5-a3f9-5acff99c2922",
   "metadata": {},
   "source": [
    "#### 3. 배열 만들기 3"
   ]
  },
  {
   "cell_type": "raw",
   "id": "d817289c-5650-4628-885f-de9d1473df88",
   "metadata": {},
   "source": [
    "- 문제 설명: 정수 배열 arr와 2개의 구간이 담긴 배열 intervals가 주어집니다.\n",
    "\n",
    "intervals는 항상 [[a1, b1], [a2, b2]]의 꼴로 주어지며 각 구간은 닫힌 구간입니다. 닫힌 구간은 양 끝값과 그 사이의 값을 모두 포함하는 구간을 의미합니다.\n",
    "\n",
    "이때 배열 arr의 첫 번째 구간에 해당하는 배열과 두 번째 구간에 해당하는 배열을 앞뒤로 붙여 새로운 배열을 만들어 return 하는 solution 함수를 완성해 주세요."
   ]
  },
  {
   "cell_type": "code",
   "execution_count": 88,
   "id": "1dac35c5-6f45-4df9-a387-fe77a13474d5",
   "metadata": {},
   "outputs": [],
   "source": [
    "def solution(arr, intervals):\n",
    "    answer = []\n",
    "    for a, b in intervals:\n",
    "        answer.append(arr[a:b+1])\n",
    "    return sum(answer, [])"
   ]
  },
  {
   "cell_type": "code",
   "execution_count": 90,
   "id": "cb2e8f3f-4c9f-4de9-9e43-c51745274177",
   "metadata": {},
   "outputs": [
    {
     "data": {
      "text/plain": [
       "[2, 3, 4, 1, 2, 3, 4, 5]"
      ]
     },
     "execution_count": 90,
     "metadata": {},
     "output_type": "execute_result"
    }
   ],
   "source": [
    "solution([1, 2, 3, 4, 5], [[1, 3], [0, 4]])"
   ]
  },
  {
   "cell_type": "code",
   "execution_count": 92,
   "id": "ceb81084-d89b-4f9a-9253-bb79eaa2a312",
   "metadata": {},
   "outputs": [],
   "source": [
    "def solution(arr, intervals):\n",
    "    answer = []\n",
    "    for a, b in intervals:\n",
    "        answer+=arr[a:b+1]\n",
    "    return answer"
   ]
  },
  {
   "cell_type": "code",
   "execution_count": 94,
   "id": "96c26e4e-6e23-4a98-a06f-738d2b886190",
   "metadata": {},
   "outputs": [
    {
     "data": {
      "text/plain": [
       "[2, 3, 4, 1, 2, 3, 4, 5]"
      ]
     },
     "execution_count": 94,
     "metadata": {},
     "output_type": "execute_result"
    }
   ],
   "source": [
    "solution([1, 2, 3, 4, 5], [[1, 3], [0, 4]])"
   ]
  },
  {
   "cell_type": "markdown",
   "id": "af3e3344-4c44-489e-a0a9-e6b55c9e1e02",
   "metadata": {},
   "source": [
    "#### 4. 2의 영역"
   ]
  },
  {
   "cell_type": "raw",
   "id": "6d9bf96c-55da-4cf1-a5b8-bd3118bf3be3",
   "metadata": {},
   "source": [
    "- 문제 설명: 정수 배열 arr가 주어집니다. 배열 안의 2가 모두 포함된 가장 작은 연속된 부분 배열을 return 하는 solution 함수를 완성해 주세요.\n",
    "\n",
    "단, arr에 2가 없는 경우 [-1]을 return 합니다."
   ]
  },
  {
   "cell_type": "code",
   "execution_count": 163,
   "id": "0a578e73-075e-46a1-989a-23f4efb7e238",
   "metadata": {},
   "outputs": [],
   "source": [
    "def solution(arr):\n",
    "    idx = []\n",
    "    for i in range(0, len(arr)):\n",
    "        if arr[i] == 2:\n",
    "            idx.append(i)\n",
    "    if idx == []:\n",
    "        return [-1]\n",
    "    else:\n",
    "        return arr[idx[0]:idx[-1]+1]"
   ]
  },
  {
   "cell_type": "code",
   "execution_count": 179,
   "id": "ee892357-a366-4a35-b836-99e80495bfb7",
   "metadata": {},
   "outputs": [
    {
     "data": {
      "text/plain": [
       "[2, 1, 4, 5, 2]"
      ]
     },
     "execution_count": 179,
     "metadata": {},
     "output_type": "execute_result"
    }
   ],
   "source": [
    "solution([1, 2, 1, 4, 5, 2, 9])"
   ]
  },
  {
   "cell_type": "code",
   "execution_count": 181,
   "id": "1b682700-d424-48e5-8d17-fc584a8b4694",
   "metadata": {},
   "outputs": [
    {
     "data": {
      "text/plain": [
       "[2]"
      ]
     },
     "execution_count": 181,
     "metadata": {},
     "output_type": "execute_result"
    }
   ],
   "source": [
    "solution([1,2,1])"
   ]
  },
  {
   "cell_type": "code",
   "execution_count": 183,
   "id": "c4c78ab7-9ba9-4bf3-a262-3494bacae715",
   "metadata": {},
   "outputs": [
    {
     "data": {
      "text/plain": [
       "[-1]"
      ]
     },
     "execution_count": 183,
     "metadata": {},
     "output_type": "execute_result"
    }
   ],
   "source": [
    "solution([1,1,1])"
   ]
  },
  {
   "cell_type": "code",
   "execution_count": 185,
   "id": "ca93dfb8-d241-4da6-8e71-ed439db65f80",
   "metadata": {},
   "outputs": [
    {
     "data": {
      "text/plain": [
       "[2, 1, 2, 1, 10, 2]"
      ]
     },
     "execution_count": 185,
     "metadata": {},
     "output_type": "execute_result"
    }
   ],
   "source": [
    "solution([1, 2, 1, 2, 1, 10, 2, 1])"
   ]
  },
  {
   "cell_type": "code",
   "execution_count": 177,
   "id": "4109a674-2b4f-4354-a138-13b7c91880b9",
   "metadata": {},
   "outputs": [],
   "source": [
    "def solution(arr):\n",
    "    answer = []\n",
    "    check = []\n",
    "    if 2 not in arr:\n",
    "        return [-1]\n",
    "    else:\n",
    "        for i in range(0, len(arr)):\n",
    "            if arr[i] == 2:\n",
    "                check.append(i)\n",
    "    return arr[check[0]:check[-1]+1]"
   ]
  },
  {
   "cell_type": "markdown",
   "id": "54f0ab51-6d05-4c78-a974-6d1399c698e4",
   "metadata": {},
   "source": [
    "#### 5. 배열 조각하기"
   ]
  },
  {
   "cell_type": "raw",
   "id": "6e5e8d32-e6ea-4cac-8ce5-a7bed0eddcaa",
   "metadata": {},
   "source": [
    "- 문제 설명: 정수 배열 arr와 query가 주어집니다.\n",
    "\n",
    "query를 순회하면서 다음 작업을 반복합니다.\n",
    "\n",
    "짝수 인덱스에서는 arr에서 query[i]번 인덱스를 제외하고 배열의 query[i]번 인덱스 뒷부분을 잘라서 버립니다.\n",
    "홀수 인덱스에서는 arr에서 query[i]번 인덱스는 제외하고 배열의 query[i]번 인덱스 앞부분을 잘라서 버립니다.\n",
    "위 작업을 마친 후 남은 arr의 부분 배열을 return 하는 solution 함수를 완성해 주세요."
   ]
  },
  {
   "cell_type": "code",
   "execution_count": 196,
   "id": "aa38883a-49a8-4bbb-8e2e-29916d924893",
   "metadata": {},
   "outputs": [],
   "source": [
    "def solution(arr, query):\n",
    "    for e, i in enumerate(query):\n",
    "        if e % 2 == 0:\n",
    "            arr = arr[:i+1]\n",
    "        else:\n",
    "            arr = arr[i:]\n",
    "    return arr"
   ]
  },
  {
   "cell_type": "code",
   "execution_count": 198,
   "id": "5a261ddc-4d77-4cf5-adb0-579966f736f9",
   "metadata": {},
   "outputs": [
    {
     "data": {
      "text/plain": [
       "[1, 2, 3]"
      ]
     },
     "execution_count": 198,
     "metadata": {},
     "output_type": "execute_result"
    }
   ],
   "source": [
    "solution([0, 1, 2, 3, 4, 5], [4,1,2])"
   ]
  }
 ],
 "metadata": {
  "kernelspec": {
   "display_name": "Python 3 (ipykernel)",
   "language": "python",
   "name": "python3"
  },
  "language_info": {
   "codemirror_mode": {
    "name": "ipython",
    "version": 3
   },
   "file_extension": ".py",
   "mimetype": "text/x-python",
   "name": "python",
   "nbconvert_exporter": "python",
   "pygments_lexer": "ipython3",
   "version": "3.12.4"
  }
 },
 "nbformat": 4,
 "nbformat_minor": 5
}
