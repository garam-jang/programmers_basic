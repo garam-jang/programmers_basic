{
 "cells": [
  {
   "cell_type": "markdown",
   "id": "d7139a69-d9cb-4e18-9474-f1ba72dd75f2",
   "metadata": {},
   "source": [
    "## DAY 6"
   ]
  },
  {
   "cell_type": "markdown",
   "id": "d8120de9-e2bd-4787-ab83-df665ea28e18",
   "metadata": {},
   "source": [
    "#### 1. 마지막 두 원소"
   ]
  },
  {
   "cell_type": "raw",
   "id": "4e2f7760-d334-4bd3-85c0-3a53836e5ad6",
   "metadata": {},
   "source": [
    "- 문제 설명: 정수 리스트 num_list가 주어질 때, 마지막 원소가 그전 원소보다 크면 마지막 원소에서 그전 원소를 뺀 값을 \n",
    "마지막 원소가 그전 원소보다 크지 않다면 마지막 원소를 두 배한 값을 추가하여 return하도록 solution 함수를 완성해주세요."
   ]
  },
  {
   "cell_type": "code",
   "execution_count": 7,
   "id": "c56a4366-6dff-48a9-b1cd-a7a64812caa5",
   "metadata": {},
   "outputs": [],
   "source": [
    "def solution(num_list):\n",
    "    answer = []\n",
    "    for i in num_list:\n",
    "        answer.append(i)\n",
    "    \n",
    "    if answer[-1] > answer[-2]:\n",
    "        answer.append(answer[-1] - answer[-2])\n",
    "    else:\n",
    "        answer.append(answer[-1] * 2)\n",
    "    return answer"
   ]
  },
  {
   "cell_type": "code",
   "execution_count": 9,
   "id": "950d67cf-e3a9-4de8-84f2-5baffbc3cb1f",
   "metadata": {},
   "outputs": [
    {
     "data": {
      "text/plain": [
       "[2, 1, 6, 5]"
      ]
     },
     "execution_count": 9,
     "metadata": {},
     "output_type": "execute_result"
    }
   ],
   "source": [
    "solution([2,1,6])"
   ]
  },
  {
   "cell_type": "code",
   "execution_count": 11,
   "id": "6b84510e-b097-4769-a319-c42088bc6c4e",
   "metadata": {},
   "outputs": [
    {
     "data": {
      "text/plain": [
       "[5, 2, 1, 7, 5, 10]"
      ]
     },
     "execution_count": 11,
     "metadata": {},
     "output_type": "execute_result"
    }
   ],
   "source": [
    "solution([5,2,1,7,5])"
   ]
  },
  {
   "cell_type": "code",
   "execution_count": 13,
   "id": "f80572a9-52b3-4ae3-a15f-5d01f65ba074",
   "metadata": {},
   "outputs": [],
   "source": [
    "def solution(num_list):\n",
    "    a = num_list[-1]\n",
    "    b = num_list[-2]\n",
    "\n",
    "    if a > b:\n",
    "        num_list.append(a - b)\n",
    "    else:\n",
    "        num_list.append(a * 2)\n",
    "\n",
    "    return num_list"
   ]
  },
  {
   "cell_type": "code",
   "execution_count": 15,
   "id": "330dabc6-2bd7-4d50-9347-31d0910de930",
   "metadata": {},
   "outputs": [
    {
     "data": {
      "text/plain": [
       "[2, 1, 6, 5]"
      ]
     },
     "execution_count": 15,
     "metadata": {},
     "output_type": "execute_result"
    }
   ],
   "source": [
    "solution([2,1,6])"
   ]
  },
  {
   "cell_type": "code",
   "execution_count": 17,
   "id": "1a6d4fb4-bb3f-4322-84b4-f5d69de97dab",
   "metadata": {},
   "outputs": [
    {
     "data": {
      "text/plain": [
       "[5, 2, 1, 7, 5, 10]"
      ]
     },
     "execution_count": 17,
     "metadata": {},
     "output_type": "execute_result"
    }
   ],
   "source": [
    "solution([5,2,1,7,5])"
   ]
  },
  {
   "cell_type": "markdown",
   "id": "2ee5fed6-12a0-4b78-8844-c40faeaf72b1",
   "metadata": {},
   "source": [
    "#### 2. 수 조작하기 1"
   ]
  },
  {
   "cell_type": "raw",
   "id": "e5a5deed-6109-4f81-9dd1-94fb1a17a41f",
   "metadata": {},
   "source": [
    "- 문제 설명: 정수 n과 문자열 control이 주어집니다. \n",
    "control은 \"w\", \"a\", \"s\", \"d\"의 4개의 문자로 이루어져 있으며, control의 앞에서부터 순서대로 문자에 따라 n의 값을 바꿉니다.\n",
    "\n",
    "\"w\" : n이 1 커집니다.\n",
    "\"s\" : n이 1 작아집니다.\n",
    "\"d\" : n이 10 커집니다.\n",
    "\"a\" : n이 10 작아집니다.\n",
    "\n",
    "위 규칙에 따라 n을 바꿨을 때 가장 마지막에 나오는 n의 값을 return 하는 solution 함수를 완성해 주세요."
   ]
  },
  {
   "cell_type": "code",
   "execution_count": 20,
   "id": "075ccdd8-29e0-4dda-8002-af1b9feeccf1",
   "metadata": {},
   "outputs": [],
   "source": [
    "def solution(n, control):\n",
    "    for i in control:\n",
    "        if i == \"w\":\n",
    "            n = n + 1\n",
    "        elif i == \"s\":\n",
    "            n = n - 1\n",
    "        elif i == \"d\":\n",
    "            n = n + 10\n",
    "        else:\n",
    "            n = n - 10\n",
    "    return n"
   ]
  },
  {
   "cell_type": "code",
   "execution_count": 22,
   "id": "9d90478b-f760-45b8-8ba1-cdd71c520e89",
   "metadata": {},
   "outputs": [
    {
     "data": {
      "text/plain": [
       "-1"
      ]
     },
     "execution_count": 22,
     "metadata": {},
     "output_type": "execute_result"
    }
   ],
   "source": [
    "solution(0, \"wsdawsdassw\")"
   ]
  },
  {
   "cell_type": "code",
   "execution_count": 32,
   "id": "e80dd846-b2eb-4afb-a95f-87422d5d83c4",
   "metadata": {},
   "outputs": [],
   "source": [
    "def solution(n, control):\n",
    "    key = dict(zip(['w', 's', 'd', 'a'], [1, -1, 10, -10])) # 각 값을 딕셔너리로 매핑\n",
    "    return n + sum(key[c] for c in control) "
   ]
  },
  {
   "cell_type": "code",
   "execution_count": 34,
   "id": "9c9c75d1-b6fd-419d-bc9a-43b7b13362ef",
   "metadata": {},
   "outputs": [
    {
     "data": {
      "text/plain": [
       "-1"
      ]
     },
     "execution_count": 34,
     "metadata": {},
     "output_type": "execute_result"
    }
   ],
   "source": [
    "solution(0, \"wsdawsdassw\")"
   ]
  },
  {
   "cell_type": "markdown",
   "id": "b893c442-005e-47e5-a3f9-5acff99c2922",
   "metadata": {},
   "source": [
    "#### 3. 수 조작하기 2"
   ]
  },
  {
   "cell_type": "raw",
   "id": "d817289c-5650-4628-885f-de9d1473df88",
   "metadata": {},
   "source": [
    "- 문제 설명: 정수 배열 numLog가 주어집니다. \n",
    "처음에 numLog[0]에서 부터 시작해 \"w\", \"a\", \"s\", \"d\"로 이루어진 문자열을 입력으로 받아 순서대로 다음과 같은 조작을 했다고 합시다.\n",
    "\n",
    "\"w\" : 수에 1을 더한다.\n",
    "\"s\" : 수에 1을 뺀다.\n",
    "\"d\" : 수에 10을 더한다.\n",
    "\"a\" : 수에 10을 뺀다.\n",
    "그리고 매번 조작을 할 때마다 결괏값을 기록한 정수 배열이 numLog입니다. 즉, numLog[i]는 numLog[0]로부터 총 i번의 조작을 가한 결과가 저장되어 있습니다.\n",
    "\n",
    "주어진 정수 배열 numLog에 대해 조작을 위해 입력받은 문자열을 return 하는 solution 함수를 완성해 주세요."
   ]
  },
  {
   "cell_type": "code",
   "execution_count": 47,
   "id": "1dac35c5-6f45-4df9-a387-fe77a13474d5",
   "metadata": {},
   "outputs": [],
   "source": [
    "def solution(numLog):\n",
    "    answer = ''\n",
    "    for i in range(0, len(numLog) - 1):\n",
    "        if numLog[i+1] - numLog[i] == 1:\n",
    "            answer += 'w'\n",
    "        elif numLog[i+1] - numLog[i] == -1:\n",
    "            answer += 's'\n",
    "        elif numLog[i+1] - numLog[i] == 10:\n",
    "            answer += 'd'\n",
    "        else:\n",
    "            answer += \"a\"\n",
    "\n",
    "    return answer        "
   ]
  },
  {
   "cell_type": "code",
   "execution_count": 49,
   "id": "cb2e8f3f-4c9f-4de9-9e43-c51745274177",
   "metadata": {
    "scrolled": true
   },
   "outputs": [
    {
     "data": {
      "text/plain": [
       "'wsdawsdassw'"
      ]
     },
     "execution_count": 49,
     "metadata": {},
     "output_type": "execute_result"
    }
   ],
   "source": [
    "solution([0, 1, 0, 10, 0, 1, 0, 10, 0, -1, -2, -1])"
   ]
  },
  {
   "cell_type": "markdown",
   "id": "af3e3344-4c44-489e-a0a9-e6b55c9e1e02",
   "metadata": {},
   "source": [
    "#### 4. 수열과 구간 쿼리 3"
   ]
  },
  {
   "cell_type": "raw",
   "id": "6d9bf96c-55da-4cf1-a5b8-bd3118bf3be3",
   "metadata": {},
   "source": [
    "- 문제 설명: 정수 배열 arr와 2차원 정수 배열 queries이 주어집니다. queries의 원소는 각각 하나의 query를 나타내며, [i, j] 꼴입니다.\n",
    "각 query마다 순서대로 arr[i]의 값과 arr[j]의 값을 서로 바꿉니다.\n",
    "위 규칙에 따라 queries를 처리한 이후의 arr를 return 하는 solution 함수를 완성해 주세요."
   ]
  },
  {
   "cell_type": "code",
   "execution_count": 68,
   "id": "0a578e73-075e-46a1-989a-23f4efb7e238",
   "metadata": {},
   "outputs": [],
   "source": [
    "def solution(arr, queries):\n",
    "    answer = arr\n",
    "    for i in queries:\n",
    "        first = i[0]\n",
    "        second = i[1]\n",
    "        answer[first], answer[second] = answer[second], answer[first]\n",
    "        \n",
    "    return answer"
   ]
  },
  {
   "cell_type": "code",
   "execution_count": 70,
   "id": "ee892357-a366-4a35-b836-99e80495bfb7",
   "metadata": {},
   "outputs": [
    {
     "data": {
      "text/plain": [
       "[3, 4, 1, 0, 2]"
      ]
     },
     "execution_count": 70,
     "metadata": {},
     "output_type": "execute_result"
    }
   ],
   "source": [
    "solution([0,1,2,3,4], [[0,3], [1,2], [1,4]])"
   ]
  },
  {
   "cell_type": "code",
   "execution_count": 72,
   "id": "6ec49650-8c2e-448b-a9d9-883c91945d31",
   "metadata": {},
   "outputs": [],
   "source": [
    "def solution(arr, queries):\n",
    "    for a, b in queries:\n",
    "        arr[a], arr[b] = arr[b], arr[a]\n",
    "    return arr"
   ]
  },
  {
   "cell_type": "code",
   "execution_count": 74,
   "id": "74f149b8-a97e-4df0-876e-f1e07099166f",
   "metadata": {
    "scrolled": true
   },
   "outputs": [
    {
     "data": {
      "text/plain": [
       "[3, 4, 1, 0, 2]"
      ]
     },
     "execution_count": 74,
     "metadata": {},
     "output_type": "execute_result"
    }
   ],
   "source": [
    "solution([0,1,2,3,4], [[0,3], [1,2], [1,4]])"
   ]
  },
  {
   "cell_type": "markdown",
   "id": "54f0ab51-6d05-4c78-a974-6d1399c698e4",
   "metadata": {},
   "source": [
    "#### 5. 수열과 구간 쿼리 2"
   ]
  },
  {
   "cell_type": "raw",
   "id": "6e5e8d32-e6ea-4cac-8ce5-a7bed0eddcaa",
   "metadata": {},
   "source": [
    "- 문제 설명: 정수 배열 arr와 2차원 정수 배열 queries이 주어집니다. queries의 원소는 각각 하나의 query를 나타내며, [s, e, k] 꼴입니다.\n",
    "\n",
    "각 query마다 순서대로 s ≤ i ≤ e인 모든 i에 대해 k보다 크면서 가장 작은 arr[i]를 찾습니다.\n",
    "\n",
    "각 쿼리의 순서에 맞게 답을 저장한 배열을 반환하는 solution 함수를 완성해 주세요.\n",
    "단, 특정 쿼리의 답이 존재하지 않으면 -1을 저장합니다."
   ]
  },
  {
   "cell_type": "code",
   "execution_count": 147,
   "id": "9fffb392-0221-4955-9323-283141408b28",
   "metadata": {},
   "outputs": [],
   "source": [
    "def solution(arr, queries):\n",
    "    answer = []\n",
    "    for s, e, k in queries:\n",
    "        upper = []\n",
    "        for i in range(s, e+1):\n",
    "            if arr[i] > k:\n",
    "                upper.append(arr[i])\n",
    "            else:\n",
    "                continue\n",
    "        answer.append(min(upper) if len(upper)>=1 else -1)\n",
    "    return answer "
   ]
  },
  {
   "cell_type": "code",
   "execution_count": 149,
   "id": "c3f7a7b0-d87e-4f3c-a77d-b385c2345968",
   "metadata": {},
   "outputs": [
    {
     "data": {
      "text/plain": [
       "[3, 4, -1]"
      ]
     },
     "execution_count": 149,
     "metadata": {},
     "output_type": "execute_result"
    }
   ],
   "source": [
    "solution([0, 1, 2, 4, 3], [[0, 4, 2],[0, 3, 2],[0, 2, 2]])"
   ]
  },
  {
   "cell_type": "code",
   "execution_count": 157,
   "id": "6373ddd3-92e3-4613-8371-9e71698692d5",
   "metadata": {},
   "outputs": [],
   "source": [
    "def solution(arr, queries):\n",
    "    answer = []\n",
    "    for s, e, k in queries:\n",
    "        tmp = []\n",
    "        for x in arr[s:e+1]:\n",
    "            if x> k:\n",
    "                tmp.append(x)\n",
    "        answer.append(-1 if not tmp else min(tmp))\n",
    "    return answer"
   ]
  },
  {
   "cell_type": "code",
   "execution_count": 159,
   "id": "08f099ec-7d3d-4f9d-bf24-45e6f19e53ce",
   "metadata": {},
   "outputs": [
    {
     "data": {
      "text/plain": [
       "[3, 4, -1]"
      ]
     },
     "execution_count": 159,
     "metadata": {},
     "output_type": "execute_result"
    }
   ],
   "source": [
    "solution([0, 1, 2, 4, 3], [[0, 4, 2],[0, 3, 2],[0, 2, 2]])"
   ]
  }
 ],
 "metadata": {
  "kernelspec": {
   "display_name": "Python 3 (ipykernel)",
   "language": "python",
   "name": "python3"
  },
  "language_info": {
   "codemirror_mode": {
    "name": "ipython",
    "version": 3
   },
   "file_extension": ".py",
   "mimetype": "text/x-python",
   "name": "python",
   "nbconvert_exporter": "python",
   "pygments_lexer": "ipython3",
   "version": "3.12.4"
  }
 },
 "nbformat": 4,
 "nbformat_minor": 5
}
