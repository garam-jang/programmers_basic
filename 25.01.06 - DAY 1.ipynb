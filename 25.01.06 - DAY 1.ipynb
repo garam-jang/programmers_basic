{
 "cells": [
  {
   "cell_type": "markdown",
   "id": "d7139a69-d9cb-4e18-9474-f1ba72dd75f2",
   "metadata": {},
   "source": [
    "## DAY 1"
   ]
  },
  {
   "cell_type": "markdown",
   "id": "d8120de9-e2bd-4787-ab83-df665ea28e18",
   "metadata": {},
   "source": [
    "#### 1. 문자열 출력하기"
   ]
  },
  {
   "cell_type": "raw",
   "id": "4e2f7760-d334-4bd3-85c0-3a53836e5ad6",
   "metadata": {},
   "source": [
    "- 문제 설명: 문자열 str이 주어질 때, str을 출력하는 코드를 작성해 보세요.\n",
    "\r",
    "- 제한사항\r\n",
    "1 ≤ str의 길이 ≤ 1,00, 000\r\n",
    "str에는 공백이 없으며, 첫째 줄에 한 줄로만 주어집니다."
   ]
  },
  {
   "cell_type": "code",
   "execution_count": 4,
   "id": "fbe22148-a69c-4cda-9723-93d707816be5",
   "metadata": {},
   "outputs": [
    {
     "name": "stdin",
     "output_type": "stream",
     "text": [
      " hello world!\n"
     ]
    },
    {
     "name": "stdout",
     "output_type": "stream",
     "text": [
      "hello world!\n"
     ]
    }
   ],
   "source": [
    "str = input()\n",
    "print(str)"
   ]
  },
  {
   "cell_type": "code",
   "execution_count": 16,
   "id": "607ebb4e-6e42-4111-994b-f520e3a66c4b",
   "metadata": {},
   "outputs": [
    {
     "name": "stdin",
     "output_type": "stream",
     "text": [
      " hello\n"
     ]
    },
    {
     "name": "stdout",
     "output_type": "stream",
     "text": [
      "hello\n"
     ]
    }
   ],
   "source": [
    "## str의 길이 제한사항 \n",
    "\n",
    "str = input()\n",
    "if len(str) >= 1 and len(str) <= 1000000 and str != \" \":\n",
    "    print(str)"
   ]
  },
  {
   "cell_type": "markdown",
   "id": "2ee5fed6-12a0-4b78-8844-c40faeaf72b1",
   "metadata": {},
   "source": [
    "#### 2. a와 b 출력하기"
   ]
  },
  {
   "cell_type": "raw",
   "id": "e5a5deed-6109-4f81-9dd1-94fb1a17a41f",
   "metadata": {},
   "source": [
    "- 문제 설명: 정수 a와 b가 주어집니다. 각 수를 입력받아 입출력 예와 같은 형식으로 출력하는 코드를 작성해 보세요.\n",
    "\n",
    "- 제한사항\n",
    "100,000 ≤ a, b ≤ 100,000"
   ]
  },
  {
   "cell_type": "code",
   "execution_count": 19,
   "id": "8301b5fc-854f-4e09-973f-3765ac56f41b",
   "metadata": {},
   "outputs": [
    {
     "name": "stdin",
     "output_type": "stream",
     "text": [
      " 4 5\n"
     ]
    },
    {
     "name": "stdout",
     "output_type": "stream",
     "text": [
      "a = 4 \n",
      "b = 5\n"
     ]
    }
   ],
   "source": [
    "a, b = map(int, input().strip().split(' '))\n",
    "\n",
    "if a >= -100000 and b <= 100000:\n",
    "    print(f'a = {a} \\nb = {b}')"
   ]
  },
  {
   "cell_type": "markdown",
   "id": "b893c442-005e-47e5-a3f9-5acff99c2922",
   "metadata": {},
   "source": [
    "#### 3. 문자열 반복해서 출력하기"
   ]
  },
  {
   "cell_type": "raw",
   "id": "d817289c-5650-4628-885f-de9d1473df88",
   "metadata": {},
   "source": [
    "- 문제 설명: 문자열 str과 정수 n이 주어집니다. str이 n번 반복된 문자열을 만들어 출력하는 코드를 작성해 보세요.\n",
    "\n",
    "- 제한사항\n",
    "1 ≤ str의 길이 ≤ 10\n",
    "1 ≤ n ≤ 5"
   ]
  },
  {
   "cell_type": "code",
   "execution_count": 26,
   "id": "baad0131-83c7-4745-9480-fd93536e50ca",
   "metadata": {},
   "outputs": [
    {
     "name": "stdin",
     "output_type": "stream",
     "text": [
      " string 5\n"
     ]
    },
    {
     "name": "stdout",
     "output_type": "stream",
     "text": [
      "stringstringstringstringstring\n"
     ]
    }
   ],
   "source": [
    "str, n = input().strip().split(' ')\n",
    "n = int(n)\n",
    "\n",
    "if len(str) >= 1 and len(str) <= 10 and n >= 1 and n <= 5:\n",
    "    print(str * n)"
   ]
  },
  {
   "cell_type": "code",
   "execution_count": 28,
   "id": "747dd521-1f9b-47e4-804a-05b3af825d65",
   "metadata": {},
   "outputs": [
    {
     "name": "stdin",
     "output_type": "stream",
     "text": [
      " string 5\n"
     ]
    },
    {
     "name": "stdout",
     "output_type": "stream",
     "text": [
      "stringstringstringstringstring\n"
     ]
    }
   ],
   "source": [
    "str, n = input().strip().split(' ')\n",
    "n = int(n)\n",
    "\n",
    "if 1 <= len(str) <= 10 and 1 <= n <= 5:\n",
    "    print(str * n)"
   ]
  },
  {
   "cell_type": "markdown",
   "id": "af3e3344-4c44-489e-a0a9-e6b55c9e1e02",
   "metadata": {},
   "source": [
    "#### 4. 대소문자 바꿔서 출력하기"
   ]
  },
  {
   "cell_type": "raw",
   "id": "6d9bf96c-55da-4cf1-a5b8-bd3118bf3be3",
   "metadata": {},
   "source": [
    "- 문제 설명: 영어 알파벳으로 이루어진 문자열 str이 주어집니다. 각 알파벳을 대문자는 소문자로 소문자는 대문자로 변환해서 출력하는 코드를 작성해 보세요.\n",
    "\n",
    "- 제한사항\n",
    "1 ≤ str의 길이 ≤ 20\n",
    "str은 알파벳으로 이루어진 문자열입니다."
   ]
  },
  {
   "cell_type": "code",
   "execution_count": 41,
   "id": "853d086c-7c52-45ca-803a-8a77345d793b",
   "metadata": {},
   "outputs": [
    {
     "name": "stdin",
     "output_type": "stream",
     "text": [
      " aBcDeFg\n"
     ]
    },
    {
     "name": "stdout",
     "output_type": "stream",
     "text": [
      "AbCdEfG\n"
     ]
    }
   ],
   "source": [
    "str = input()\n",
    "\n",
    "new_str = ''\n",
    "for i in str:\n",
    "    if i.islower():\n",
    "        new_str += i.upper()\n",
    "    else:\n",
    "        new_str += i.lower()\n",
    "\n",
    "print(new_str)"
   ]
  },
  {
   "cell_type": "code",
   "execution_count": 43,
   "id": "db6c8ab1-ec10-41a5-95dd-751722d42f6b",
   "metadata": {},
   "outputs": [
    {
     "name": "stdin",
     "output_type": "stream",
     "text": [
      " aBcDeFg\n"
     ]
    },
    {
     "name": "stdout",
     "output_type": "stream",
     "text": [
      "AbCdEfG\n"
     ]
    }
   ],
   "source": [
    "## 함수 사용\n",
    "print(input().swapcase())"
   ]
  },
  {
   "cell_type": "markdown",
   "id": "54f0ab51-6d05-4c78-a974-6d1399c698e4",
   "metadata": {},
   "source": [
    "#### 5. 특수문자 출력하기"
   ]
  },
  {
   "cell_type": "code",
   "execution_count": 47,
   "id": "7ceda108-18ca-450c-803f-241a21f9c55e",
   "metadata": {},
   "outputs": [
    {
     "name": "stdout",
     "output_type": "stream",
     "text": [
      "!@#$%^&*(\\'\"<>?:;\n"
     ]
    }
   ],
   "source": [
    "print('!@#$%^&*(\\\\\\'\\\"<>?:;')"
   ]
  },
  {
   "cell_type": "code",
   "execution_count": 49,
   "id": "e5c05171-2505-4197-bb65-c281024e1067",
   "metadata": {},
   "outputs": [],
   "source": [
    "## \\(백슬래시)와 ', \" (따옴표) 앞에만 \\붙여 주기"
   ]
  }
 ],
 "metadata": {
  "kernelspec": {
   "display_name": "Python 3 (ipykernel)",
   "language": "python",
   "name": "python3"
  },
  "language_info": {
   "codemirror_mode": {
    "name": "ipython",
    "version": 3
   },
   "file_extension": ".py",
   "mimetype": "text/x-python",
   "name": "python",
   "nbconvert_exporter": "python",
   "pygments_lexer": "ipython3",
   "version": "3.12.4"
  }
 },
 "nbformat": 4,
 "nbformat_minor": 5
}
