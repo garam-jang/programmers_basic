{
 "cells": [
  {
   "cell_type": "markdown",
   "id": "d7139a69-d9cb-4e18-9474-f1ba72dd75f2",
   "metadata": {},
   "source": [
    "## DAY 15"
   ]
  },
  {
   "cell_type": "markdown",
   "id": "d8120de9-e2bd-4787-ab83-df665ea28e18",
   "metadata": {},
   "source": [
    "#### 1. 조건에 맞게 수열 변환하기 1"
   ]
  },
  {
   "cell_type": "markdown",
   "id": "15a3a2d8-5840-4c4f-b3cd-0430c9e123e6",
   "metadata": {},
   "source": [
    "- 문제 설명: 정수 배열 arr가 주어집니다. arr의 각 원소에 대해 값이 50보다 크거나 같은 짝수라면 2로 나누고, 50보다 작은 홀수라면 2를 곱합니다. 그 결과인 정수 배열을 return 하는 solution 함수를 완성해 주세요."
   ]
  },
  {
   "cell_type": "code",
   "execution_count": 12,
   "id": "c56a4366-6dff-48a9-b1cd-a7a64812caa5",
   "metadata": {},
   "outputs": [],
   "source": [
    "def solution(arr):\n",
    "    answer = []\n",
    "    for i in arr:\n",
    "        if (i >= 50) & (i % 2 == 0):\n",
    "            answer.append(round(i/2))\n",
    "        elif (i < 50) & (i % 2 == 1):\n",
    "            answer.append(i * 2)\n",
    "        else:\n",
    "            answer.append(i)\n",
    "    return answer            "
   ]
  },
  {
   "cell_type": "code",
   "execution_count": 14,
   "id": "950d67cf-e3a9-4de8-84f2-5baffbc3cb1f",
   "metadata": {},
   "outputs": [
    {
     "data": {
      "text/plain": [
       "[2, 2, 6, 50, 99, 49]"
      ]
     },
     "execution_count": 14,
     "metadata": {},
     "output_type": "execute_result"
    }
   ],
   "source": [
    "solution([1, 2, 3, 100, 99, 98])"
   ]
  },
  {
   "cell_type": "markdown",
   "id": "2ee5fed6-12a0-4b78-8844-c40faeaf72b1",
   "metadata": {},
   "source": [
    "#### 2. 조건에 맞게 수열 변환하기 2"
   ]
  },
  {
   "cell_type": "markdown",
   "id": "1e075d3f-d3eb-4457-8ae1-d169a3a4b84c",
   "metadata": {},
   "source": [
    "- 문제 설명: 정수 배열 arr가 주어집니다. arr의 각 원소에 대해 값이 50보다 크거나 같은 짝수라면 2로 나누고, 50보다 작은 홀수라면 2를 곱하고 다시 1을 더합니다.\r\n",
    "\r\n",
    "이러한 작업을 x번 반복한 결과인 배열을 arr(x)라고 표현했을 때, arr(x) = arr(x + 1)인 x가 항상 존재합니다. 이러한 x 중 가장 작은 값을 return 하는 solution 함수를 완성해 주세요.\r\n",
    "\r\n",
    "단, 두 배열에 대한 \"=\"는 두 배열의 크기가 서로 같으며, 같은 인덱스의 원소가 각각 서로 같음을 의미합니다."
   ]
  },
  {
   "cell_type": "code",
   "execution_count": 183,
   "id": "7cd35514-705c-4429-b899-88a4edbed8f5",
   "metadata": {},
   "outputs": [],
   "source": [
    "def solution(arr):\n",
    "    prior_arr = [] \n",
    "    x = 0\n",
    "\n",
    "    while prior_arr != arr:\n",
    "        prior_arr = arr.copy()\n",
    "        for idx, num in enumerate(arr):\n",
    "            if num >= 50 and num % 2 == 0:\n",
    "                arr[idx] = num // 2\n",
    "            elif num < 50 and num % 2 == 1:\n",
    "                arr[idx] = num * 2 + 1\n",
    "        x += 1 \n",
    "\n",
    "    return x - 1  # 변화 없는 마지막 루프는 제외\n"
   ]
  },
  {
   "cell_type": "code",
   "execution_count": 185,
   "id": "4ccb1fd0-d3d6-47f4-a4f8-378dd9586b66",
   "metadata": {},
   "outputs": [
    {
     "data": {
      "text/plain": [
       "5"
      ]
     },
     "execution_count": 185,
     "metadata": {},
     "output_type": "execute_result"
    }
   ],
   "source": [
    "solution([1, 2, 3, 100, 99, 98])"
   ]
  },
  {
   "cell_type": "markdown",
   "id": "b893c442-005e-47e5-a3f9-5acff99c2922",
   "metadata": {},
   "source": [
    "#### 3. 1로 만들기"
   ]
  },
  {
   "cell_type": "markdown",
   "id": "f05f7c34-e846-4c72-8277-92ec829f8d24",
   "metadata": {},
   "source": [
    "- 문제 설명: 정수가 있을 때, 짝수라면 반으로 나누고, 홀수라면 1을 뺀 뒤 반으로 나누면, 마지막엔 1이 됩니다. 예를 들어 10이 있다면 다음과 같은 과정으로 1이 됩니다.\r\n",
    "\r\n",
    "10 / 2 = 5\r\n",
    "(5 - 1) / 2 = 2\r\n",
    "2 / 2 = 1\r\n",
    "위와 같이 3번의 나누기 연산으로 1이 되었습니다.\r\n",
    "\r\n",
    "정수들이 담긴 리스트 num_list가 주어질 때, num_list의 모든 원소를 1로 만들기 위해서 필요한 나누기 연산의 횟수를 return하도록 solution 함수를 완성해주세요."
   ]
  },
  {
   "cell_type": "code",
   "execution_count": 191,
   "id": "1dac35c5-6f45-4df9-a387-fe77a13474d5",
   "metadata": {},
   "outputs": [],
   "source": [
    "def solution(num_list):\n",
    "    answer = 0\n",
    "    for i in num_list:\n",
    "        while i != 1:\n",
    "            if i % 2 == 0:\n",
    "                i = i // 2\n",
    "                answer += 1\n",
    "            else:\n",
    "                i = (i - 1) // 2\n",
    "                answer += 1\n",
    "    return answer"
   ]
  },
  {
   "cell_type": "code",
   "execution_count": 202,
   "id": "cb2e8f3f-4c9f-4de9-9e43-c51745274177",
   "metadata": {},
   "outputs": [
    {
     "data": {
      "text/plain": [
       "11"
      ]
     },
     "execution_count": 202,
     "metadata": {},
     "output_type": "execute_result"
    }
   ],
   "source": [
    "solution([12, 4, 15, 1, 14])"
   ]
  },
  {
   "cell_type": "code",
   "execution_count": 199,
   "id": "a3de7e11-524a-46d0-bfe7-0e595d8f7b75",
   "metadata": {},
   "outputs": [],
   "source": [
    "def solution(num_list):\n",
    "    answer = 0\n",
    "    for i in num_list:\n",
    "        while i != 1:\n",
    "            i //= 2 # 몪을 구함 (홀수일때 1을 빼고 2로 나눔\n",
    "            answer += 1\n",
    "    return answer"
   ]
  },
  {
   "cell_type": "markdown",
   "id": "af3e3344-4c44-489e-a0a9-e6b55c9e1e02",
   "metadata": {},
   "source": [
    "#### 4. 길이에 따른 연산"
   ]
  },
  {
   "cell_type": "markdown",
   "id": "eced8f4d-109f-4afc-acf3-336c9b171835",
   "metadata": {},
   "source": [
    "- 문제 설명: 정수가 담긴 리스트 num_list가 주어질 때, 리스트의 길이가 11 이상이면 리스트에 있는 모든 원소의 합을 10 이하이면 모든 원소의 곱을 return하도록 solution 함수를 완성해주세요."
   ]
  },
  {
   "cell_type": "code",
   "execution_count": 121,
   "id": "0a578e73-075e-46a1-989a-23f4efb7e238",
   "metadata": {},
   "outputs": [],
   "source": [
    "def solution(num_list):\n",
    "    answer = 1\n",
    "    if len(num_list) >= 11:\n",
    "        answer =  sum(num_list)\n",
    "    else:\n",
    "        for i in num_list:\n",
    "            answer *= i\n",
    "    return answer        "
   ]
  },
  {
   "cell_type": "code",
   "execution_count": 129,
   "id": "ee892357-a366-4a35-b836-99e80495bfb7",
   "metadata": {
    "scrolled": true
   },
   "outputs": [
    {
     "data": {
      "text/plain": [
       "51"
      ]
     },
     "execution_count": 129,
     "metadata": {},
     "output_type": "execute_result"
    }
   ],
   "source": [
    "solution([3, 4, 5, 2, 5, 4, 6, 7, 3, 7, 2, 2, 1])"
   ]
  },
  {
   "cell_type": "code",
   "execution_count": 131,
   "id": "a6b0ecb4-6d15-44f2-90a6-a1391a63fba1",
   "metadata": {},
   "outputs": [
    {
     "data": {
      "text/plain": [
       "120"
      ]
     },
     "execution_count": 131,
     "metadata": {},
     "output_type": "execute_result"
    }
   ],
   "source": [
    "solution([2, 3, 4, 5])"
   ]
  },
  {
   "cell_type": "code",
   "execution_count": 133,
   "id": "cfa31232-01ad-44bd-9298-430f67588389",
   "metadata": {},
   "outputs": [],
   "source": [
    "def solution(num_list):\n",
    "    if len(num_list) >= 11:\n",
    "        return eval('+'.join(list(map(str, num_list))))\n",
    "        # num_list를 문자열 리스트로 변경 후, 각 요소들 사이에 '+' 문자로 합치기 -> eval 로 계산\n",
    "    else:\n",
    "        return eval('*'.join(list(map(str, num_list))))"
   ]
  },
  {
   "cell_type": "markdown",
   "id": "54f0ab51-6d05-4c78-a974-6d1399c698e4",
   "metadata": {},
   "source": [
    "#### 5. 원하는 문자열 찾기"
   ]
  },
  {
   "cell_type": "markdown",
   "id": "59f612b1-4eb4-441a-851e-e8194040618b",
   "metadata": {},
   "source": [
    "- 문제 설명: 알파벳으로 이루어진 문자열 myString과 pat이 주어집니다. myString의 연속된 부분 문자열 중 pat이 존재하면 1을 그렇지 않으면 0을 return 하는 solution 함수를 완성해 주세요.\r\n",
    "\r\n",
    "단, 알파벳 대문자와 소문자는 구분하지 않습.\r\n",
    "\r\n"
   ]
  },
  {
   "cell_type": "code",
   "execution_count": 141,
   "id": "aa38883a-49a8-4bbb-8e2e-29916d924893",
   "metadata": {},
   "outputs": [],
   "source": [
    "def solution(my_String, pat):\n",
    "    my_String = my_String.lower()\n",
    "    pat = pat.lower()\n",
    "    idx = my_String.find(pat)\n",
    "    return 1 if idx != -1 else 0"
   ]
  },
  {
   "cell_type": "code",
   "execution_count": 155,
   "id": "5a261ddc-4d77-4cf5-adb0-579966f736f9",
   "metadata": {},
   "outputs": [
    {
     "data": {
      "text/plain": [
       "1"
      ]
     },
     "execution_count": 155,
     "metadata": {},
     "output_type": "execute_result"
    }
   ],
   "source": [
    "solution(\"AbCdEfG\", \"aBc\")"
   ]
  },
  {
   "cell_type": "code",
   "execution_count": 157,
   "id": "53387f41-4852-4a03-98ed-dc2de97fe90e",
   "metadata": {},
   "outputs": [
    {
     "data": {
      "text/plain": [
       "0"
      ]
     },
     "execution_count": 157,
     "metadata": {},
     "output_type": "execute_result"
    }
   ],
   "source": [
    "solution(\"aaAA\", \"aaaaa\")"
   ]
  },
  {
   "cell_type": "code",
   "execution_count": 153,
   "id": "23191ffe-6d32-4b11-986d-63c737cacd17",
   "metadata": {},
   "outputs": [],
   "source": [
    "def solution(my_String, pat):\n",
    "    return int(pat.lower() in my_String.lower()) # boolean 값을 int로 변환"
   ]
  }
 ],
 "metadata": {
  "kernelspec": {
   "display_name": "Python 3 (ipykernel)",
   "language": "python",
   "name": "python3"
  },
  "language_info": {
   "codemirror_mode": {
    "name": "ipython",
    "version": 3
   },
   "file_extension": ".py",
   "mimetype": "text/x-python",
   "name": "python",
   "nbconvert_exporter": "python",
   "pygments_lexer": "ipython3",
   "version": "3.12.4"
  }
 },
 "nbformat": 4,
 "nbformat_minor": 5
}
