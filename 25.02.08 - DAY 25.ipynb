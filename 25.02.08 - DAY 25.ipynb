{
 "cells": [
  {
   "cell_type": "markdown",
   "id": "d7139a69-d9cb-4e18-9474-f1ba72dd75f2",
   "metadata": {},
   "source": [
    "## DAY 25"
   ]
  },
  {
   "cell_type": "markdown",
   "id": "d8120de9-e2bd-4787-ab83-df665ea28e18",
   "metadata": {},
   "source": [
    "#### 1. 정수를 나선형으로 배치하기"
   ]
  },
  {
   "cell_type": "markdown",
   "id": "c98aaa27-0cb4-4fd1-bfef-6f5ba84f4eb3",
   "metadata": {},
   "source": [
    "- 문제 설명: 양의 정수 n이 매개변수로 주어집니다. n × n 배열에 1부터 n2 까지 정수를 인덱스 [0][0]부터 시계방향 나선형으로 배치한 이차원 배열을 return 하는 solution 함수를 작성해 주세요.\r\n"
   ]
  },
  {
   "cell_type": "code",
   "execution_count": 126,
   "id": "c56a4366-6dff-48a9-b1cd-a7a64812caa5",
   "metadata": {},
   "outputs": [],
   "source": [
    "def solution(n):\n",
    "    answer = [[0] * n for _ in range(n)] # 빈 배열 생성\n",
    "\n",
    "    # 오른쪽, 아래, 왼쪽, 위의 방향으로 전환\n",
    "    dx = [0,1,0,-1] \n",
    "    dy = [1,0,-1,0]\n",
    "\n",
    "    # 시작 위치\n",
    "    x = 0\n",
    "    y = 0\n",
    "\n",
    "    # 첫 번째 숫자\n",
    "    num = 1\n",
    "\n",
    "    # 방향 인덱스\n",
    "    direction = 0\n",
    "\n",
    "    # 숫자 채우기\n",
    "    while num <= n*n:\n",
    "        answer[x][y] = num\n",
    "        num += 1\n",
    "\n",
    "        # 다음 위치로 이동\n",
    "        nx, ny = x + dx[direction], y+ dy[direction]\n",
    "\n",
    "        # 다음 위치가 배열의 범위 내에 있는지, 이미 숫자가 채워졌는지 확인\n",
    "        if 0 <= nx < n and 0 <= ny < n and answer[nx][ny] == 0:\n",
    "            x, y = nx, ny\n",
    "        else: # 방향 전환\n",
    "            direction = (direction + 1) % 4\n",
    "            x, y = x + dx[direction], y + dy[direction]\n",
    "\n",
    "\n",
    "    return answer   "
   ]
  },
  {
   "cell_type": "code",
   "execution_count": 128,
   "id": "950d67cf-e3a9-4de8-84f2-5baffbc3cb1f",
   "metadata": {},
   "outputs": [
    {
     "data": {
      "text/plain": [
       "[[1, 2, 3, 4], [12, 13, 14, 5], [11, 16, 15, 6], [10, 9, 8, 7]]"
      ]
     },
     "execution_count": 128,
     "metadata": {},
     "output_type": "execute_result"
    }
   ],
   "source": [
    "solution(4)"
   ]
  },
  {
   "cell_type": "markdown",
   "id": "2ee5fed6-12a0-4b78-8844-c40faeaf72b1",
   "metadata": {},
   "source": [
    "#### 2. 특별한 이차원 배열 2"
   ]
  },
  {
   "cell_type": "markdown",
   "id": "e9bdf058-4708-47fd-9460-35176b427d3c",
   "metadata": {},
   "source": [
    "- 문제 설명: n × n 크기의 이차원 배열 arr이 매개변수로 주어질 때, arr이 다음을 만족하면 1을 아니라면 0을 return 하는 solution 함수를 작성해 주세요.\r\n",
    "\r\n",
    "0 ≤ i, j < n인 정수 i, j에 대하여 arr[i][j] = arr[j][]\r\n"
   ]
  },
  {
   "cell_type": "code",
   "execution_count": 28,
   "id": "075ccdd8-29e0-4dda-8002-af1b9feeccf1",
   "metadata": {},
   "outputs": [],
   "source": [
    "def solution(arr):\n",
    "    answer = 1\n",
    "    for idx, x in enumerate(arr):\n",
    "        for j in range(len(x)):\n",
    "            if arr[idx][j] == arr[j][idx]:\n",
    "                answer *= 1\n",
    "            else:\n",
    "                answer *= 0\n",
    "    return answer"
   ]
  },
  {
   "cell_type": "code",
   "execution_count": 30,
   "id": "9d90478b-f760-45b8-8ba1-cdd71c520e89",
   "metadata": {},
   "outputs": [
    {
     "data": {
      "text/plain": [
       "1"
      ]
     },
     "execution_count": 30,
     "metadata": {},
     "output_type": "execute_result"
    }
   ],
   "source": [
    "solution([[5, 192, 33], [192, 72, 95], [33, 95, 999]])"
   ]
  },
  {
   "cell_type": "code",
   "execution_count": 32,
   "id": "a2090684-a7ff-4a54-ab45-42471a6d1419",
   "metadata": {},
   "outputs": [
    {
     "data": {
      "text/plain": [
       "0"
      ]
     },
     "execution_count": 32,
     "metadata": {},
     "output_type": "execute_result"
    }
   ],
   "source": [
    "solution([[19, 498, 258, 587], [63, 93, 7, 754], [258, 7, 1000, 723], [587, 754, 723, 81]])"
   ]
  },
  {
   "cell_type": "markdown",
   "id": "b893c442-005e-47e5-a3f9-5acff99c2922",
   "metadata": {},
   "source": [
    "#### 3. 정사각형으로 만들기"
   ]
  },
  {
   "cell_type": "markdown",
   "id": "79e1e4a4-2d86-43a9-82f5-e25ccfa6a964",
   "metadata": {},
   "source": [
    "- 문제 설명: 이차원 정수 배열 arr이 매개변수로 주어집니다. arr의 행의 수가 더 많다면 열의 수가 행의 수와 같아지도록 각 행의 끝에 0을 추가하고, 열의 수가 더 많다면 행의 수가 열의 수와 같아지도록 각 열의 끝에 0을 추가한 이차원 배열을 return 하는 solution 함수를 작성해 주세요."
   ]
  },
  {
   "cell_type": "code",
   "execution_count": 70,
   "id": "1dac35c5-6f45-4df9-a387-fe77a13474d5",
   "metadata": {},
   "outputs": [],
   "source": [
    "def solution(arr):\n",
    "    row = len(arr)\n",
    "    column = len(arr[0])\n",
    "\n",
    "    if row > column:\n",
    "        for sub_list in arr:\n",
    "            sub_list.extend([0] * (row - column))\n",
    "            \n",
    "    elif row < column:\n",
    "        for j in range(column - row):\n",
    "            arr.append([0] * column)\n",
    "                \n",
    "    \n",
    "    return arr"
   ]
  },
  {
   "cell_type": "code",
   "execution_count": 72,
   "id": "30aecac9-8b1a-453c-9857-a0fc2706b29c",
   "metadata": {},
   "outputs": [
    {
     "data": {
      "text/plain": [
       "[[572, 22, 37, 0], [287, 726, 384, 0], [85, 137, 292, 0], [487, 13, 876, 0]]"
      ]
     },
     "execution_count": 72,
     "metadata": {},
     "output_type": "execute_result"
    }
   ],
   "source": [
    "solution([[572, 22, 37], [287, 726, 384], [85, 137, 292], [487, 13, 876]])"
   ]
  },
  {
   "cell_type": "code",
   "execution_count": 74,
   "id": "1939d834-14f0-4d62-932a-b9ded1de5947",
   "metadata": {},
   "outputs": [
    {
     "data": {
      "text/plain": [
       "[[57, 192, 534, 2], [9, 345, 192, 999], [0, 0, 0, 0], [0, 0, 0, 0]]"
      ]
     },
     "execution_count": 74,
     "metadata": {},
     "output_type": "execute_result"
    }
   ],
   "source": [
    "solution([[57, 192, 534, 2], [9, 345, 192, 999]])"
   ]
  },
  {
   "cell_type": "code",
   "execution_count": 76,
   "id": "85b4ddb1-f1f8-47e8-a030-f5cf02c68ff4",
   "metadata": {},
   "outputs": [
    {
     "data": {
      "text/plain": [
       "[[1, 2], [3, 4]]"
      ]
     },
     "execution_count": 76,
     "metadata": {},
     "output_type": "execute_result"
    }
   ],
   "source": [
    "solution([[1, 2], [3, 4]])"
   ]
  },
  {
   "cell_type": "markdown",
   "id": "af3e3344-4c44-489e-a0a9-e6b55c9e1e02",
   "metadata": {},
   "source": [
    "#### 4. 이차원 배열 대각선 순회하기"
   ]
  },
  {
   "cell_type": "markdown",
   "id": "db64fa08-be77-4089-9683-f22b30aa65b8",
   "metadata": {},
   "source": [
    "- 문제 설명: 2차원 정수 배열 board와 정수 k가 주어집니다.\r\n",
    "\r\n",
    "i + j <= k를 만족하는 모든 (i, j)에 대한 board[i][j]의 합을 return 하는 solution 함수를 완성해 주세요."
   ]
  },
  {
   "cell_type": "code",
   "execution_count": 130,
   "id": "0a578e73-075e-46a1-989a-23f4efb7e238",
   "metadata": {},
   "outputs": [],
   "source": [
    "def solution(board, k):\n",
    "    answer = 0\n",
    "    row = len(board)\n",
    "    column = len(board[0])\n",
    "\n",
    "    for i in range(row):\n",
    "        for j in range(column):\n",
    "            if i + j <= k:\n",
    "                answer += board[i][j]\n",
    "    return answer"
   ]
  },
  {
   "cell_type": "code",
   "execution_count": 132,
   "id": "ee892357-a366-4a35-b836-99e80495bfb7",
   "metadata": {},
   "outputs": [
    {
     "data": {
      "text/plain": [
       "8"
      ]
     },
     "execution_count": 132,
     "metadata": {},
     "output_type": "execute_result"
    }
   ],
   "source": [
    "solution([[0, 1, 2],[1, 2, 3],[2, 3, 4],[3, 4, 5]], 2)"
   ]
  }
 ],
 "metadata": {
  "kernelspec": {
   "display_name": "Python 3 (ipykernel)",
   "language": "python",
   "name": "python3"
  },
  "language_info": {
   "codemirror_mode": {
    "name": "ipython",
    "version": 3
   },
   "file_extension": ".py",
   "mimetype": "text/x-python",
   "name": "python",
   "nbconvert_exporter": "python",
   "pygments_lexer": "ipython3",
   "version": "3.12.4"
  }
 },
 "nbformat": 4,
 "nbformat_minor": 5
}
