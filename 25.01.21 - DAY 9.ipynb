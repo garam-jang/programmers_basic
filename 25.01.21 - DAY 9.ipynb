{
 "cells": [
  {
   "cell_type": "markdown",
   "id": "d7139a69-d9cb-4e18-9474-f1ba72dd75f2",
   "metadata": {},
   "source": [
    "## DAY 9"
   ]
  },
  {
   "cell_type": "markdown",
   "id": "d8120de9-e2bd-4787-ab83-df665ea28e18",
   "metadata": {},
   "source": [
    "#### 1. 배열 만들기 5 "
   ]
  },
  {
   "cell_type": "raw",
   "id": "4e2f7760-d334-4bd3-85c0-3a53836e5ad6",
   "metadata": {},
   "source": [
    "- 문제 설명: 문자열 배열 intStrs와 정수 k, s, l가 주어집니다. intStrs의 원소는 숫자로 이루어져 있습니다.\n",
    "\n",
    "배열 intStrs의 각 원소마다 s번 인덱스에서 시작하는 길이 l짜리 부분 문자열을 잘라내 정수로 변환합니다. 이때 변환한 정수값이 k보다 큰 값들을 담은 배열을 return 하는 solution 함수를 완성해 주세요."
   ]
  },
  {
   "cell_type": "code",
   "execution_count": 11,
   "id": "c56a4366-6dff-48a9-b1cd-a7a64812caa5",
   "metadata": {},
   "outputs": [],
   "source": [
    "def solution(intStrs, k, s, l):\n",
    "    slicing = []\n",
    "    answer = []\n",
    "    for i in intStrs:\n",
    "        slicing.append(int(i[s:s+l]))\n",
    "\n",
    "    for j in slicing:\n",
    "        if k < j:\n",
    "            answer.append(j)\n",
    "    return answer"
   ]
  },
  {
   "cell_type": "code",
   "execution_count": 13,
   "id": "950d67cf-e3a9-4de8-84f2-5baffbc3cb1f",
   "metadata": {
    "scrolled": true
   },
   "outputs": [
    {
     "data": {
      "text/plain": [
       "[56789, 99999]"
      ]
     },
     "execution_count": 13,
     "metadata": {},
     "output_type": "execute_result"
    }
   ],
   "source": [
    "solution([\"0123456789\",\"9876543210\",\"9999999999999\"], 50000, 5, 5)"
   ]
  },
  {
   "cell_type": "code",
   "execution_count": 15,
   "id": "1400c084-aa19-4733-8e3d-c3b270b2e503",
   "metadata": {},
   "outputs": [],
   "source": [
    "def solution(intStrs, k, s, l):\n",
    "    return [int(intstr[s:s+l]) for intstr in intStrs if int(intstr[s:s+l]) > k]"
   ]
  },
  {
   "cell_type": "code",
   "execution_count": 17,
   "id": "fa40bca3-ac54-4fd4-830d-a55d5fdd4dfc",
   "metadata": {},
   "outputs": [
    {
     "data": {
      "text/plain": [
       "[56789, 99999]"
      ]
     },
     "execution_count": 17,
     "metadata": {},
     "output_type": "execute_result"
    }
   ],
   "source": [
    "solution([\"0123456789\",\"9876543210\",\"9999999999999\"], 50000, 5, 5)"
   ]
  },
  {
   "cell_type": "markdown",
   "id": "2ee5fed6-12a0-4b78-8844-c40faeaf72b1",
   "metadata": {},
   "source": [
    "#### 2. 부분 문자열 이어 붙여 문자열 만들기"
   ]
  },
  {
   "cell_type": "raw",
   "id": "e5a5deed-6109-4f81-9dd1-94fb1a17a41f",
   "metadata": {},
   "source": [
    "- 문제 설명: 길이가 같은 문자열 배열 my_strings와 이차원 정수 배열 parts가 매개변수로 주어집니다. \n",
    "parts[i]는 [s, e] 형태로, my_string[i]의 인덱스 s부터 인덱스 e까지의 부분 문자열을 의미합니다. 각 my_strings의 원소의 parts에 해당하는 부분 문자열을 순서대로 이어 붙인 문자열을 return 하는 solution 함수를 작성해 주세요."
   ]
  },
  {
   "cell_type": "code",
   "execution_count": 111,
   "id": "075ccdd8-29e0-4dda-8002-af1b9feeccf1",
   "metadata": {},
   "outputs": [],
   "source": [
    "def solution(my_strings, parts):\n",
    "    answer = ''\n",
    "    for idx, string in enumerate(my_strings):\n",
    "        s, e = parts[idx]\n",
    "        answer += string[s:e+1]\n",
    "    return answer"
   ]
  },
  {
   "cell_type": "code",
   "execution_count": 113,
   "id": "9d90478b-f760-45b8-8ba1-cdd71c520e89",
   "metadata": {
    "scrolled": true
   },
   "outputs": [
    {
     "data": {
      "text/plain": [
       "'programmers'"
      ]
     },
     "execution_count": 113,
     "metadata": {},
     "output_type": "execute_result"
    }
   ],
   "source": [
    "solution([\"progressive\", \"hamburger\", \"hammer\", \"ahocorasick\"], [[0, 4], [1, 2], [3, 5], [7, 7]])"
   ]
  },
  {
   "cell_type": "code",
   "execution_count": 119,
   "id": "e1afd924-10fb-457c-9600-7e90acfac78f",
   "metadata": {},
   "outputs": [],
   "source": [
    "def solution(my_strings, parts):\n",
    "    answer = ''\n",
    "    for i, (s,e) in enumerate(parts):\n",
    "        answer += my_strings[i][s:e+1]\n",
    "    return answer"
   ]
  },
  {
   "cell_type": "code",
   "execution_count": 121,
   "id": "601a39c8-b005-4b7f-bd0c-12c8ba8e10b0",
   "metadata": {},
   "outputs": [
    {
     "data": {
      "text/plain": [
       "'programmers'"
      ]
     },
     "execution_count": 121,
     "metadata": {},
     "output_type": "execute_result"
    }
   ],
   "source": [
    "solution([\"progressive\", \"hamburger\", \"hammer\", \"ahocorasick\"], [[0, 4], [1, 2], [3, 5], [7, 7]])"
   ]
  },
  {
   "cell_type": "markdown",
   "id": "b893c442-005e-47e5-a3f9-5acff99c2922",
   "metadata": {},
   "source": [
    "#### 3. 문자열의 뒤의 n 글자"
   ]
  },
  {
   "cell_type": "raw",
   "id": "d817289c-5650-4628-885f-de9d1473df88",
   "metadata": {},
   "source": [
    "- 문제 설명: 문자열 my_string과 정수 n이 매개변수로 주어질 때, my_string의 뒤의 n글자로 이루어진 문자열을 return 하는 solution 함수를 작성해 주세요."
   ]
  },
  {
   "cell_type": "code",
   "execution_count": 136,
   "id": "1dac35c5-6f45-4df9-a387-fe77a13474d5",
   "metadata": {},
   "outputs": [],
   "source": [
    "def solution(my_string, n):\n",
    "    return my_string[len(my_string)- n:]\n",
    "    # my_string[-n:]"
   ]
  },
  {
   "cell_type": "code",
   "execution_count": 134,
   "id": "cb2e8f3f-4c9f-4de9-9e43-c51745274177",
   "metadata": {},
   "outputs": [
    {
     "data": {
      "text/plain": [
       "'grammerS123'"
      ]
     },
     "execution_count": 134,
     "metadata": {},
     "output_type": "execute_result"
    }
   ],
   "source": [
    "solution(\"ProgrammerS123\", 11)"
   ]
  },
  {
   "cell_type": "markdown",
   "id": "af3e3344-4c44-489e-a0a9-e6b55c9e1e02",
   "metadata": {},
   "source": [
    "#### 4. 접미사 배열"
   ]
  },
  {
   "cell_type": "raw",
   "id": "6d9bf96c-55da-4cf1-a5b8-bd3118bf3be3",
   "metadata": {},
   "source": [
    "- 문제 설명: 어떤 문자열에 대해서 접미사는 특정 인덱스부터 시작하는 문자열을 의미합니다. \n",
    "예를 들어, \"banana\"의 모든 접미사는 \"banana\", \"anana\", \"nana\", \"ana\", \"na\", \"a\"입니다.\n",
    "문자열 my_string이 매개변수로 주어질 때, my_string의 모든 접미사를 사전순으로 정렬한 문자열 배열을 return 하는 solution 함수를 작성해 주세요."
   ]
  },
  {
   "cell_type": "code",
   "execution_count": 155,
   "id": "0a578e73-075e-46a1-989a-23f4efb7e238",
   "metadata": {},
   "outputs": [],
   "source": [
    "def solution(my_string):\n",
    "    answer = []\n",
    "    i = 1\n",
    "    while i != len(my_string)+1:\n",
    "        answer.append(my_string[-i:])\n",
    "        i += 1\n",
    "    return sorted(answer)"
   ]
  },
  {
   "cell_type": "code",
   "execution_count": 157,
   "id": "ee892357-a366-4a35-b836-99e80495bfb7",
   "metadata": {},
   "outputs": [
    {
     "data": {
      "text/plain": [
       "['a', 'ana', 'anana', 'banana', 'na', 'nana']"
      ]
     },
     "execution_count": 157,
     "metadata": {},
     "output_type": "execute_result"
    }
   ],
   "source": [
    "solution(\"banana\")"
   ]
  },
  {
   "cell_type": "code",
   "execution_count": 159,
   "id": "f8e13fce-7428-461a-a7ab-8892870186b5",
   "metadata": {
    "scrolled": true
   },
   "outputs": [
    {
     "data": {
      "text/plain": [
       "['ammers',\n",
       " 'ers',\n",
       " 'grammers',\n",
       " 'mers',\n",
       " 'mmers',\n",
       " 'ogrammers',\n",
       " 'programmers',\n",
       " 'rammers',\n",
       " 'rogrammers',\n",
       " 'rs',\n",
       " 's']"
      ]
     },
     "execution_count": 159,
     "metadata": {},
     "output_type": "execute_result"
    }
   ],
   "source": [
    "solution(\"programmers\")"
   ]
  },
  {
   "cell_type": "code",
   "execution_count": 161,
   "id": "918d9428-f507-4066-a9d2-7ccf496aac73",
   "metadata": {},
   "outputs": [],
   "source": [
    "def solution(my_string):\n",
    "    return sorted(my_string[i:] for i in range(len(my_string)))"
   ]
  },
  {
   "cell_type": "code",
   "execution_count": 163,
   "id": "983478dc-b933-4b9b-896f-0bba14ee3647",
   "metadata": {},
   "outputs": [
    {
     "data": {
      "text/plain": [
       "['a', 'ana', 'anana', 'banana', 'na', 'nana']"
      ]
     },
     "execution_count": 163,
     "metadata": {},
     "output_type": "execute_result"
    }
   ],
   "source": [
    "solution(\"banana\")"
   ]
  },
  {
   "cell_type": "markdown",
   "id": "54f0ab51-6d05-4c78-a974-6d1399c698e4",
   "metadata": {},
   "source": [
    "#### 5. 접미사인지 확인하기"
   ]
  },
  {
   "cell_type": "raw",
   "id": "6e5e8d32-e6ea-4cac-8ce5-a7bed0eddcaa",
   "metadata": {},
   "source": [
    "- 문제 설명: 어떤 문자열에 대해서 접미사는 특정 인덱스부터 시작하는 문자열을 의미합니다. \n",
    "예를 들어, \"banana\"의 모든 접미사는 \"banana\", \"anana\", \"nana\", \"ana\", \"na\", \"a\"입니다.\n",
    "문자열 my_string과 is_suffix가 주어질 때, is_suffix가 my_string의 접미사라면 1을, 아니면 0을 return 하는 solution 함수를 작성해 주세요."
   ]
  },
  {
   "cell_type": "code",
   "execution_count": 166,
   "id": "aa38883a-49a8-4bbb-8e2e-29916d924893",
   "metadata": {},
   "outputs": [],
   "source": [
    "def solution(my_string, is_suffix):\n",
    "    suffix = [my_string[i:] for i in range(len(my_string))]\n",
    "    if is_suffix in suffix:\n",
    "        return 1\n",
    "    else:\n",
    "        return 0"
   ]
  },
  {
   "cell_type": "code",
   "execution_count": 168,
   "id": "5a261ddc-4d77-4cf5-adb0-579966f736f9",
   "metadata": {},
   "outputs": [
    {
     "data": {
      "text/plain": [
       "1"
      ]
     },
     "execution_count": 168,
     "metadata": {},
     "output_type": "execute_result"
    }
   ],
   "source": [
    "solution(\"banana\", \"ana\")"
   ]
  },
  {
   "cell_type": "code",
   "execution_count": 170,
   "id": "6aaf17c7-4f10-46ed-9188-23728595daca",
   "metadata": {},
   "outputs": [
    {
     "data": {
      "text/plain": [
       "0"
      ]
     },
     "execution_count": 170,
     "metadata": {},
     "output_type": "execute_result"
    }
   ],
   "source": [
    "solution(\"banana\", \"nan\")"
   ]
  }
 ],
 "metadata": {
  "kernelspec": {
   "display_name": "Python 3 (ipykernel)",
   "language": "python",
   "name": "python3"
  },
  "language_info": {
   "codemirror_mode": {
    "name": "ipython",
    "version": 3
   },
   "file_extension": ".py",
   "mimetype": "text/x-python",
   "name": "python",
   "nbconvert_exporter": "python",
   "pygments_lexer": "ipython3",
   "version": "3.12.4"
  }
 },
 "nbformat": 4,
 "nbformat_minor": 5
}
