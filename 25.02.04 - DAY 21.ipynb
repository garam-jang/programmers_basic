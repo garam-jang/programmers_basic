{
 "cells": [
  {
   "cell_type": "markdown",
   "id": "d7139a69-d9cb-4e18-9474-f1ba72dd75f2",
   "metadata": {},
   "source": [
    "## DAY 21"
   ]
  },
  {
   "cell_type": "markdown",
   "id": "d8120de9-e2bd-4787-ab83-df665ea28e18",
   "metadata": {},
   "source": [
    "#### 1. 뒤에서 5등 위로"
   ]
  },
  {
   "cell_type": "markdown",
   "id": "c98aaa27-0cb4-4fd1-bfef-6f5ba84f4eb3",
   "metadata": {},
   "source": [
    "- 문제 설명: 정수로 이루어진 리스트 num_list가 주어집니다. num_list에서 가장 작은 5개의 수를 제외한 수들을 오름차순으로 담은 리스트를 return하도록 solution 함수를 완성해주세요."
   ]
  },
  {
   "cell_type": "code",
   "execution_count": 4,
   "id": "c56a4366-6dff-48a9-b1cd-a7a64812caa5",
   "metadata": {},
   "outputs": [],
   "source": [
    "def solution(num_list):\n",
    "    return sorted(num_list)[5:]"
   ]
  },
  {
   "cell_type": "code",
   "execution_count": 6,
   "id": "950d67cf-e3a9-4de8-84f2-5baffbc3cb1f",
   "metadata": {},
   "outputs": [
    {
     "data": {
      "text/plain": [
       "[15, 32, 38, 46, 56]"
      ]
     },
     "execution_count": 6,
     "metadata": {},
     "output_type": "execute_result"
    }
   ],
   "source": [
    "solution([12, 4, 15, 46, 38, 1, 14, 56, 32, 10])"
   ]
  },
  {
   "cell_type": "markdown",
   "id": "2ee5fed6-12a0-4b78-8844-c40faeaf72b1",
   "metadata": {},
   "source": [
    "#### 2. 전국 대회 선발 고사"
   ]
  },
  {
   "cell_type": "markdown",
   "id": "e9bdf058-4708-47fd-9460-35176b427d3c",
   "metadata": {},
   "source": [
    "- 문제 설명: 0번부터 n - 1번까지 n명의 학생 중 3명을 선발하는 전국 대회 선발 고사를 보았습니다. 등수가 높은 3명을 선발해야 하지만, 개인 사정으로 전국 대회에 참여하지 못하는 학생들이 있어 참여가 가능한 학생 중 등수가 높은 3명을 선발하기로 했습니다.\n",
    "-\n",
    "- \r\n",
    "각 학생들의 선발 고사 등수를 담은 정수 배열 rank와 전국 대회 참여 가능 여부가 담긴 boolean 배열 attendance가 매개변수로 주어집니다. 전국 대회에 선발된 학생 번호들을 등수가 높은 순서대로 각각 a, b, c번이라고 할 때 10000 × a + 100 × b + c를 return 하는 solution 함수를 작성해 주세요."
   ]
  },
  {
   "cell_type": "code",
   "execution_count": 46,
   "id": "075ccdd8-29e0-4dda-8002-af1b9feeccf1",
   "metadata": {},
   "outputs": [],
   "source": [
    "def solution(rank, attendacne):\n",
    "    answer = []\n",
    "    idx_list = []\n",
    "    for idx, bool in enumerate(attendacne):\n",
    "        if bool:\n",
    "            answer.append(rank[idx])\n",
    "    answer = sorted(answer)[:3]\n",
    "\n",
    "    for i in answer:\n",
    "        idx_list.append(rank.index(i))\n",
    "    \n",
    "    return 10000 * idx_list[0] + 100 * idx_list[1] + idx_list[2]"
   ]
  },
  {
   "cell_type": "code",
   "execution_count": 78,
   "id": "9d90478b-f760-45b8-8ba1-cdd71c520e89",
   "metadata": {},
   "outputs": [
    {
     "data": {
      "text/plain": [
       "20403"
      ]
     },
     "execution_count": 78,
     "metadata": {},
     "output_type": "execute_result"
    }
   ],
   "source": [
    "solution([3, 7, 2, 5, 4, 6, 1], [False, True, True, True, True, False, False])"
   ]
  },
  {
   "cell_type": "code",
   "execution_count": 80,
   "id": "428e044b-e91e-45e0-b3cd-85ff47a951ea",
   "metadata": {},
   "outputs": [
    {
     "data": {
      "text/plain": [
       "102"
      ]
     },
     "execution_count": 80,
     "metadata": {},
     "output_type": "execute_result"
    }
   ],
   "source": [
    "solution([1, 2, 3], [True, True, True])"
   ]
  },
  {
   "cell_type": "code",
   "execution_count": 82,
   "id": "edb5c4ac-d3f3-4d18-9b18-f6af2e3bd5dc",
   "metadata": {},
   "outputs": [
    {
     "data": {
      "text/plain": [
       "50200"
      ]
     },
     "execution_count": 82,
     "metadata": {},
     "output_type": "execute_result"
    }
   ],
   "source": [
    "solution([6, 1, 5, 2, 3, 4], [True, False, True, False, False, True])"
   ]
  },
  {
   "cell_type": "code",
   "execution_count": 84,
   "id": "0db92163-f610-4305-a7a7-2284d827e73b",
   "metadata": {},
   "outputs": [],
   "source": [
    "def solution(rank, attendance):\n",
    "    arr = sorted([(x,i)for i, x in enumerate(rank) if attendance[i]]) # 참여하는 학생들의 등수와 인덱스를 등수로 오름차순\n",
    "    return arr[0][1] * 10000 + arr[1][1] * 100 + arr[2][1]"
   ]
  },
  {
   "cell_type": "markdown",
   "id": "b893c442-005e-47e5-a3f9-5acff99c2922",
   "metadata": {},
   "source": [
    "#### 3. 정수 부분"
   ]
  },
  {
   "cell_type": "markdown",
   "id": "79e1e4a4-2d86-43a9-82f5-e25ccfa6a964",
   "metadata": {},
   "source": [
    "- 문제 설명: 실수 flo가 매개 변수로 주어질 때, flo의 정수 부분을 return하도록 solution 함수를 완성해주세요."
   ]
  },
  {
   "cell_type": "code",
   "execution_count": 98,
   "id": "1dac35c5-6f45-4df9-a387-fe77a13474d5",
   "metadata": {},
   "outputs": [],
   "source": [
    "import math\n",
    "\n",
    "def solution(flo):\n",
    "    return math.trunc(flo)\n",
    "    # return int(flo)"
   ]
  },
  {
   "cell_type": "code",
   "execution_count": 100,
   "id": "cb2e8f3f-4c9f-4de9-9e43-c51745274177",
   "metadata": {},
   "outputs": [
    {
     "data": {
      "text/plain": [
       "1"
      ]
     },
     "execution_count": 100,
     "metadata": {},
     "output_type": "execute_result"
    }
   ],
   "source": [
    "solution(1.42)"
   ]
  },
  {
   "cell_type": "code",
   "execution_count": 102,
   "id": "d635475e-547a-421c-892a-a272d0b6bae9",
   "metadata": {},
   "outputs": [
    {
     "data": {
      "text/plain": [
       "69"
      ]
     },
     "execution_count": 102,
     "metadata": {},
     "output_type": "execute_result"
    }
   ],
   "source": [
    "solution(69.32)"
   ]
  },
  {
   "cell_type": "markdown",
   "id": "af3e3344-4c44-489e-a0a9-e6b55c9e1e02",
   "metadata": {},
   "source": [
    "#### 4. 문자열 정수의 합"
   ]
  },
  {
   "cell_type": "markdown",
   "id": "db64fa08-be77-4089-9683-f22b30aa65b8",
   "metadata": {},
   "source": [
    "- 문제 설명: 한 자리 정수로 이루어진 문자열 num_str이 주어질 때, 각 자리수의 합을 return하도록 solution 함수를 완성해주세요."
   ]
  },
  {
   "cell_type": "code",
   "execution_count": 106,
   "id": "0a578e73-075e-46a1-989a-23f4efb7e238",
   "metadata": {},
   "outputs": [],
   "source": [
    "def solution(num_str):\n",
    "    answer = 0\n",
    "    for i in num_str:\n",
    "        answer += int(i)\n",
    "    return answer"
   ]
  },
  {
   "cell_type": "code",
   "execution_count": 122,
   "id": "ee892357-a366-4a35-b836-99e80495bfb7",
   "metadata": {},
   "outputs": [
    {
     "data": {
      "text/plain": [
       "45"
      ]
     },
     "execution_count": 122,
     "metadata": {},
     "output_type": "execute_result"
    }
   ],
   "source": [
    "solution(\"123456789\")"
   ]
  },
  {
   "cell_type": "code",
   "execution_count": 124,
   "id": "bfe58a28-c12d-4d9a-a26a-90577f182599",
   "metadata": {
    "scrolled": true
   },
   "outputs": [
    {
     "data": {
      "text/plain": [
       "1"
      ]
     },
     "execution_count": 124,
     "metadata": {},
     "output_type": "execute_result"
    }
   ],
   "source": [
    "solution(\"1000000\")"
   ]
  },
  {
   "cell_type": "code",
   "execution_count": 120,
   "id": "a2988683-4103-424d-914b-04f1118789f3",
   "metadata": {},
   "outputs": [],
   "source": [
    "def solution(num_str):\n",
    "    return sum([int(i) for i in num_str])"
   ]
  },
  {
   "cell_type": "markdown",
   "id": "54f0ab51-6d05-4c78-a974-6d1399c698e4",
   "metadata": {},
   "source": [
    "#### 5. 문자열을 정수로 변환하기"
   ]
  },
  {
   "cell_type": "markdown",
   "id": "7157a453-67a2-43cf-b11f-354721707532",
   "metadata": {},
   "source": [
    "- 문제 설명: 숫자로만 이루어진 문자열 n_str이 주어질 때, n_str을 정수로 변환하여 return하도록 solution 함수를 완성해주세요."
   ]
  },
  {
   "cell_type": "code",
   "execution_count": 128,
   "id": "aa38883a-49a8-4bbb-8e2e-29916d924893",
   "metadata": {},
   "outputs": [],
   "source": [
    "def solution(n_str):\n",
    "    return int(n_str)"
   ]
  },
  {
   "cell_type": "code",
   "execution_count": 130,
   "id": "5a261ddc-4d77-4cf5-adb0-579966f736f9",
   "metadata": {},
   "outputs": [
    {
     "data": {
      "text/plain": [
       "10"
      ]
     },
     "execution_count": 130,
     "metadata": {},
     "output_type": "execute_result"
    }
   ],
   "source": [
    "solution(\"10\")"
   ]
  }
 ],
 "metadata": {
  "kernelspec": {
   "display_name": "Python 3 (ipykernel)",
   "language": "python",
   "name": "python3"
  },
  "language_info": {
   "codemirror_mode": {
    "name": "ipython",
    "version": 3
   },
   "file_extension": ".py",
   "mimetype": "text/x-python",
   "name": "python",
   "nbconvert_exporter": "python",
   "pygments_lexer": "ipython3",
   "version": "3.12.4"
  }
 },
 "nbformat": 4,
 "nbformat_minor": 5
}
