{
 "cells": [
  {
   "cell_type": "markdown",
   "id": "d7139a69-d9cb-4e18-9474-f1ba72dd75f2",
   "metadata": {},
   "source": [
    "## DAY 3"
   ]
  },
  {
   "cell_type": "markdown",
   "id": "d8120de9-e2bd-4787-ab83-df665ea28e18",
   "metadata": {},
   "source": [
    "#### 1. 문자열 섞기"
   ]
  },
  {
   "cell_type": "raw",
   "id": "4e2f7760-d334-4bd3-85c0-3a53836e5ad6",
   "metadata": {},
   "source": [
    "- 문제 설명: 길이가 같은 두 문자열 str1과 str2가 주어집니다.\n",
    "\n",
    "두 문자열의 각 문자가 앞에서부터 서로 번갈아가면서 한 번씩 등장하는 문자열을 만들어 return 하는 solution 함수를 완성해 주세요."
   ]
  },
  {
   "cell_type": "code",
   "execution_count": 13,
   "id": "0e2db26a-a49c-4dee-959c-c07e2b607bf0",
   "metadata": {},
   "outputs": [],
   "source": [
    "def solution(str1, str2):\n",
    "    answer = ''\n",
    "    for i, z in zip(str1, str2):\n",
    "        answer += i+z\n",
    "    return answer"
   ]
  },
  {
   "cell_type": "code",
   "execution_count": 15,
   "id": "b91b55f8-602d-466e-b34c-51cd9a9ceafc",
   "metadata": {
    "scrolled": true
   },
   "outputs": [
    {
     "data": {
      "text/plain": [
       "'abababab'"
      ]
     },
     "execution_count": 15,
     "metadata": {},
     "output_type": "execute_result"
    }
   ],
   "source": [
    "solution('aaaa','bbbb')"
   ]
  },
  {
   "cell_type": "code",
   "execution_count": 25,
   "id": "69871e67-92fa-412b-a4a4-25aca50c0d5d",
   "metadata": {},
   "outputs": [],
   "source": [
    "def solution(str1, str2):\n",
    "    answer = ''\n",
    "    for i in range(0,len(str1)): # 0부터 str1의 길이만큼 인덱스로 넣기\n",
    "        answer = answer + str1[i] + str2[i] \n",
    "    return answer"
   ]
  },
  {
   "cell_type": "code",
   "execution_count": 27,
   "id": "eac5fb0b-f043-4750-b270-b532f6282afc",
   "metadata": {},
   "outputs": [
    {
     "data": {
      "text/plain": [
       "'abababab'"
      ]
     },
     "execution_count": 27,
     "metadata": {},
     "output_type": "execute_result"
    }
   ],
   "source": [
    "solution('aaaa','bbbb')"
   ]
  },
  {
   "cell_type": "markdown",
   "id": "2ee5fed6-12a0-4b78-8844-c40faeaf72b1",
   "metadata": {},
   "source": [
    "#### 2. 문자 리스트를 문자열로 변환하기\n"
   ]
  },
  {
   "cell_type": "raw",
   "id": "e5a5deed-6109-4f81-9dd1-94fb1a17a41f",
   "metadata": {},
   "source": [
    "- 문제 설명: 문자들이 담겨있는 배열 arr가 주어집니다. arr의 원소들을 순서대로 이어 붙인 문자열을 return 하는 solution함수를 작성해 주세요."
   ]
  },
  {
   "cell_type": "code",
   "execution_count": 30,
   "id": "17931a2a-d399-44b4-8ef1-bc2b5265858a",
   "metadata": {},
   "outputs": [],
   "source": [
    "def solution(arr):\n",
    "    answer = ''\n",
    "    for i in arr:\n",
    "        answer += i\n",
    "    return answer"
   ]
  },
  {
   "cell_type": "code",
   "execution_count": 32,
   "id": "962e6813-acaf-4771-b7b0-fe32e9381d26",
   "metadata": {
    "scrolled": true
   },
   "outputs": [
    {
     "data": {
      "text/plain": [
       "'abc'"
      ]
     },
     "execution_count": 32,
     "metadata": {},
     "output_type": "execute_result"
    }
   ],
   "source": [
    "solution([\"a\",\"b\",\"c\"])"
   ]
  },
  {
   "cell_type": "code",
   "execution_count": 42,
   "id": "6a34052b-b613-4615-b897-5fb5991900e0",
   "metadata": {},
   "outputs": [],
   "source": [
    "# 한 줄 코드 한 줄 코드\n",
    "def solution(arr):\n",
    "    return ''.join(arr)\n",
    "\n",
    "# ''.join(리스트) : 리스트 속 단어들을 합쳐서 출력\n",
    "# '구분자'.join(리스트): 리스트 속 단어들을 구분자로 구분해 합쳐서 출력"
   ]
  },
  {
   "cell_type": "code",
   "execution_count": 44,
   "id": "36c9b517-9270-4975-8f3b-19769d61b5f7",
   "metadata": {},
   "outputs": [
    {
     "data": {
      "text/plain": [
       "'abc'"
      ]
     },
     "execution_count": 44,
     "metadata": {},
     "output_type": "execute_result"
    }
   ],
   "source": [
    "solution([\"a\",\"b\",\"c\"])"
   ]
  },
  {
   "cell_type": "markdown",
   "id": "b893c442-005e-47e5-a3f9-5acff99c2922",
   "metadata": {},
   "source": [
    "#### 3. 문자열 곱하기"
   ]
  },
  {
   "cell_type": "raw",
   "id": "0686be11-b396-4aea-b915-8f4e33307c8e",
   "metadata": {},
   "source": [
    "- 문제 설명: 문자열 my_string과 정수 k가 주어질 때, my_string을 k번 반복한 문자열을 return 하는 solution 함수를 작성해 주세요."
   ]
  },
  {
   "cell_type": "code",
   "execution_count": 47,
   "id": "db7f95f7-608d-48c4-adcd-161aaadc69c1",
   "metadata": {},
   "outputs": [],
   "source": [
    "def solution(my_string, k):\n",
    "    answer = my_string * k\n",
    "    return answer"
   ]
  },
  {
   "cell_type": "code",
   "execution_count": 49,
   "id": "9222e5b8-42be-40ae-825b-8a15f9bd9ba4",
   "metadata": {},
   "outputs": [
    {
     "data": {
      "text/plain": [
       "'stringstringstring'"
      ]
     },
     "execution_count": 49,
     "metadata": {},
     "output_type": "execute_result"
    }
   ],
   "source": [
    "solution(\"string\",3)"
   ]
  },
  {
   "cell_type": "markdown",
   "id": "af3e3344-4c44-489e-a0a9-e6b55c9e1e02",
   "metadata": {},
   "source": [
    "#### 4. 더 크게 합치기"
   ]
  },
  {
   "cell_type": "raw",
   "id": "6d9bf96c-55da-4cf1-a5b8-bd3118bf3be3",
   "metadata": {},
   "source": [
    "- 문제 설명: 연산 ⊕는 두 정수에 대한 연산으로 두 정수를 붙여서 쓴 값을 반환합니다. 예를 들면 다음과 같습니다.\n",
    "\n",
    "12 ⊕ 3 = 123\n",
    "3 ⊕ 12 = 312\n",
    "양의 정수 a와 b가 주어졌을 때, a ⊕ b와 b ⊕ a 중 더 큰 값을 return 하는 solution 함수를 완성해 주세요.\n",
    "\n",
    "단, a ⊕ b와 b ⊕ a가 같다면 a ⊕ b를 return 합니다."
   ]
  },
  {
   "cell_type": "code",
   "execution_count": 56,
   "id": "63d458a0-8433-4851-af42-dca2239661f5",
   "metadata": {
    "scrolled": true
   },
   "outputs": [],
   "source": [
    "def solution(a, b):\n",
    "    a = str(a)\n",
    "    b = str(b)\n",
    "    sum_1 = int(a + b)\n",
    "    sum_2 = int(b + a)\n",
    "    \n",
    "    if sum_1 > sum_2:\n",
    "        answer = sum_1\n",
    "    else:\n",
    "        answer = sum_2\n",
    "    return answer"
   ]
  },
  {
   "cell_type": "code",
   "execution_count": 58,
   "id": "9f9c2ff6-0c9c-412d-bb1a-5093e4d0094e",
   "metadata": {
    "scrolled": true
   },
   "outputs": [
    {
     "data": {
      "text/plain": [
       "991"
      ]
     },
     "execution_count": 58,
     "metadata": {},
     "output_type": "execute_result"
    }
   ],
   "source": [
    "solution(9, 91)"
   ]
  },
  {
   "cell_type": "code",
   "execution_count": 66,
   "id": "ec79a7fe-347a-43af-a4bf-c86626917f9f",
   "metadata": {},
   "outputs": [],
   "source": [
    "def solution(a, b):\n",
    "    return int(max(f\"{a}{b}\", f\"{b}{a}\")) # fstring,,"
   ]
  },
  {
   "cell_type": "code",
   "execution_count": 68,
   "id": "a26fb972-7a2d-4ba6-93cd-bec13aeed9ec",
   "metadata": {},
   "outputs": [
    {
     "data": {
      "text/plain": [
       "991"
      ]
     },
     "execution_count": 68,
     "metadata": {},
     "output_type": "execute_result"
    }
   ],
   "source": [
    "solution(9, 91)"
   ]
  },
  {
   "cell_type": "markdown",
   "id": "54f0ab51-6d05-4c78-a974-6d1399c698e4",
   "metadata": {},
   "source": [
    "#### 5. 두 수의 연산값 비교하기\n"
   ]
  },
  {
   "cell_type": "raw",
   "id": "d3945cbd-e594-40ab-8e69-d28a40c3a9bd",
   "metadata": {},
   "source": [
    "- 문제 설명: 연산 ⊕는 두 정수에 대한 연산으로 두 정수를 붙여서 쓴 값을 반환합니다. 예를 들면 다음과 같습니다.\n",
    "\n",
    "12 ⊕ 3 = 123\n",
    "3 ⊕ 12 = 312\n",
    "양의 정수 a와 b가 주어졌을 때, a ⊕ b와 2 * a * b 중 더 큰 값을 return하는 solution 함수를 완성해 주세요.\n",
    "\n",
    "단, a ⊕ b와 2 * a * b가 같으면 a ⊕ b를 return 합니다."
   ]
  },
  {
   "cell_type": "code",
   "execution_count": 75,
   "id": "869e9d8c-0f09-410d-8aa8-ad41afccf041",
   "metadata": {},
   "outputs": [],
   "source": [
    "def solution(a, b):\n",
    "    answer_1 = int(f'{a}{b}')\n",
    "    answer_2 = 2 * a * b\n",
    "    \n",
    "    if answer_1 >= answer_2:\n",
    "        return answer_1\n",
    "    else:\n",
    "        return answer_2"
   ]
  },
  {
   "cell_type": "code",
   "execution_count": 77,
   "id": "00ec8fac-e181-429d-8f13-cfd59bbdf7cd",
   "metadata": {},
   "outputs": [
    {
     "data": {
      "text/plain": [
       "364"
      ]
     },
     "execution_count": 77,
     "metadata": {},
     "output_type": "execute_result"
    }
   ],
   "source": [
    "solution(2, 91)"
   ]
  },
  {
   "cell_type": "code",
   "execution_count": 79,
   "id": "53edbb3a-ff05-4e80-8a2e-135feb4c5c4d",
   "metadata": {
    "scrolled": true
   },
   "outputs": [
    {
     "data": {
      "text/plain": [
       "912"
      ]
     },
     "execution_count": 79,
     "metadata": {},
     "output_type": "execute_result"
    }
   ],
   "source": [
    "solution(91, 2)"
   ]
  },
  {
   "cell_type": "code",
   "execution_count": 83,
   "id": "9758c323-802f-46df-85ba-dfdb31a3da44",
   "metadata": {},
   "outputs": [],
   "source": [
    "def solution(a, b):\n",
    "    return max(int(str(a) + str(b)), 2 * a * b) # 함수를 잘 쓰자,,,,,,,,\n",
    "# max는 같으면 앞에 있는 값을 출력하기 때문에 조건 만족"
   ]
  },
  {
   "cell_type": "code",
   "execution_count": 85,
   "id": "53bb3388-9294-440f-a3ec-e00fe23311a8",
   "metadata": {},
   "outputs": [
    {
     "data": {
      "text/plain": [
       "364"
      ]
     },
     "execution_count": 85,
     "metadata": {},
     "output_type": "execute_result"
    }
   ],
   "source": [
    "solution(2, 91)"
   ]
  }
 ],
 "metadata": {
  "kernelspec": {
   "display_name": "Python 3 (ipykernel)",
   "language": "python",
   "name": "python3"
  },
  "language_info": {
   "codemirror_mode": {
    "name": "ipython",
    "version": 3
   },
   "file_extension": ".py",
   "mimetype": "text/x-python",
   "name": "python",
   "nbconvert_exporter": "python",
   "pygments_lexer": "ipython3",
   "version": "3.12.4"
  }
 },
 "nbformat": 4,
 "nbformat_minor": 5
}
